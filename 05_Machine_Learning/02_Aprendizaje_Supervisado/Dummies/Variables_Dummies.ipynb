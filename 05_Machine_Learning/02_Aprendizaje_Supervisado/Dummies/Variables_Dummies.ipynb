{
 "cells": [
  {
   "cell_type": "code",
   "execution_count": 1,
   "metadata": {},
   "outputs": [],
   "source": [
    "## Variables Dummies\n",
    "import pandas as pd\n",
    "import os\n",
    "import numpy as np"
   ]
  },
  {
   "cell_type": "code",
   "execution_count": 10,
   "metadata": {},
   "outputs": [],
   "source": [
    "df=pd.read_csv(\"./Datos/Hidroponia_original.csv\",index_col=0,encoding=\"ISO-8859-1\")"
   ]
  },
  {
   "cell_type": "code",
   "execution_count": 11,
   "metadata": {},
   "outputs": [
    {
     "data": {
      "text/html": [
       "<div>\n",
       "<style scoped>\n",
       "    .dataframe tbody tr th:only-of-type {\n",
       "        vertical-align: middle;\n",
       "    }\n",
       "\n",
       "    .dataframe tbody tr th {\n",
       "        vertical-align: top;\n",
       "    }\n",
       "\n",
       "    .dataframe thead th {\n",
       "        text-align: right;\n",
       "    }\n",
       "</style>\n",
       "<table border=\"1\" class=\"dataframe\">\n",
       "  <thead>\n",
       "    <tr style=\"text-align: right;\">\n",
       "      <th></th>\n",
       "      <th>pH</th>\n",
       "      <th>EC</th>\n",
       "      <th>Hortaliza</th>\n",
       "      <th>Sistema</th>\n",
       "      <th>Duracion_Ciclo</th>\n",
       "    </tr>\n",
       "    <tr>\n",
       "      <th>Cultivo</th>\n",
       "      <th></th>\n",
       "      <th></th>\n",
       "      <th></th>\n",
       "      <th></th>\n",
       "      <th></th>\n",
       "    </tr>\n",
       "  </thead>\n",
       "  <tbody>\n",
       "    <tr>\n",
       "      <th>Brócoli</th>\n",
       "      <td>6 to 6.8</td>\n",
       "      <td>2.8 to 3.5</td>\n",
       "      <td>Flor</td>\n",
       "      <td>NFT</td>\n",
       "      <td>70-90</td>\n",
       "    </tr>\n",
       "    <tr>\n",
       "      <th>Calabacita</th>\n",
       "      <td>6</td>\n",
       "      <td>1.8 to 2.4</td>\n",
       "      <td>Fruto</td>\n",
       "      <td>Goteo</td>\n",
       "      <td>45</td>\n",
       "    </tr>\n",
       "    <tr>\n",
       "      <th>Pepino</th>\n",
       "      <td>5 to 5.5</td>\n",
       "      <td>1.7 to 2</td>\n",
       "      <td>Fruto</td>\n",
       "      <td>Goteo</td>\n",
       "      <td>70-80</td>\n",
       "    </tr>\n",
       "    <tr>\n",
       "      <th>Pimientos</th>\n",
       "      <td>5.5 to 6</td>\n",
       "      <td>0.8 to 1.8</td>\n",
       "      <td>Fruto</td>\n",
       "      <td>Goteo</td>\n",
       "      <td>65</td>\n",
       "    </tr>\n",
       "    <tr>\n",
       "      <th>fresa</th>\n",
       "      <td>6</td>\n",
       "      <td>1.8 to 2.2</td>\n",
       "      <td>Fruto</td>\n",
       "      <td>NFT</td>\n",
       "      <td>120-150</td>\n",
       "    </tr>\n",
       "  </tbody>\n",
       "</table>\n",
       "</div>"
      ],
      "text/plain": [
       "                  pH          EC Hortaliza Sistema Duracion_Ciclo \n",
       "Cultivo                                                           \n",
       "Brócoli     6 to 6.8  2.8 to 3.5      Flor     NFT           70-90\n",
       "Calabacita         6  1.8 to 2.4     Fruto   Goteo              45\n",
       "Pepino      5 to 5.5    1.7 to 2     Fruto   Goteo           70-80\n",
       "Pimientos   5.5 to 6  0.8 to 1.8     Fruto   Goteo              65\n",
       "fresa              6  1.8 to 2.2     Fruto     NFT         120-150"
      ]
     },
     "execution_count": 11,
     "metadata": {},
     "output_type": "execute_result"
    }
   ],
   "source": [
    "df.head()"
   ]
  }
 ],
 "metadata": {
  "kernelspec": {
   "display_name": "base",
   "language": "python",
   "name": "python3"
  },
  "language_info": {
   "codemirror_mode": {
    "name": "ipython",
    "version": 3
   },
   "file_extension": ".py",
   "mimetype": "text/x-python",
   "name": "python",
   "nbconvert_exporter": "python",
   "pygments_lexer": "ipython3",
   "version": "3.9.12"
  },
  "orig_nbformat": 4
 },
 "nbformat": 4,
 "nbformat_minor": 2
}
