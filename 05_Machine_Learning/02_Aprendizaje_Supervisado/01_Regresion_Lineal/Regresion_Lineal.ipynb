{
 "cells": [
  {
   "cell_type": "code",
   "execution_count": 1,
   "metadata": {},
   "outputs": [],
   "source": [
    "## Regresion Lienal Generalizada"
   ]
  },
  {
   "cell_type": "markdown",
   "metadata": {},
   "source": [
    "$$\\hat{y} = \\alpha + \\beta_1 \\times  x_1 +\\ldots \\beta_n \\times x_n + \\varepsilon$$\n",
    "$$ MIN \\varepsilon ^2 = MIN \\sum (y_i - \\hat{y}_i)^2$$\n",
    "$$ MIN \\sum (y_i -\\alpha + \\beta_1 \\times  x_1 +\\ldots \\beta_n \\times x_n )^2$$\n",
    "$$\\hat{\\beta}= (X^T X)^{-1} X^Ty$$"
   ]
  },
  {
   "cell_type": "code",
   "execution_count": 18,
   "metadata": {},
   "outputs": [],
   "source": [
    "import pandas as pd\n",
    "import os\n",
    "import numpy as np\n",
    "df=pd.read_csv(\"./Datos/Valoracion.csv\")"
   ]
  },
  {
   "cell_type": "code",
   "execution_count": 3,
   "metadata": {},
   "outputs": [
    {
     "data": {
      "text/html": [
       "<div>\n",
       "<style scoped>\n",
       "    .dataframe tbody tr th:only-of-type {\n",
       "        vertical-align: middle;\n",
       "    }\n",
       "\n",
       "    .dataframe tbody tr th {\n",
       "        vertical-align: top;\n",
       "    }\n",
       "\n",
       "    .dataframe thead th {\n",
       "        text-align: right;\n",
       "    }\n",
       "</style>\n",
       "<table border=\"1\" class=\"dataframe\">\n",
       "  <thead>\n",
       "    <tr style=\"text-align: right;\">\n",
       "      <th></th>\n",
       "      <th>Anyo</th>\n",
       "      <th>Estado Civil</th>\n",
       "      <th>Valoracion_A</th>\n",
       "      <th>Valoracion_B</th>\n",
       "      <th>Valoracion_C</th>\n",
       "      <th>Valoracion_D</th>\n",
       "      <th>Valoracion_E</th>\n",
       "      <th>Valoracion_F</th>\n",
       "      <th>Valoracion_G</th>\n",
       "    </tr>\n",
       "  </thead>\n",
       "  <tbody>\n",
       "    <tr>\n",
       "      <th>0</th>\n",
       "      <td>2020</td>\n",
       "      <td>Casado</td>\n",
       "      <td>33.1</td>\n",
       "      <td>25.8</td>\n",
       "      <td>30.8</td>\n",
       "      <td>30.9</td>\n",
       "      <td>31.9</td>\n",
       "      <td>30.8</td>\n",
       "      <td>25.3</td>\n",
       "    </tr>\n",
       "    <tr>\n",
       "      <th>1</th>\n",
       "      <td>2021</td>\n",
       "      <td>Casado</td>\n",
       "      <td>40.2</td>\n",
       "      <td>36.8</td>\n",
       "      <td>31.4</td>\n",
       "      <td>26.8</td>\n",
       "      <td>30.8</td>\n",
       "      <td>37.4</td>\n",
       "      <td>37.4</td>\n",
       "    </tr>\n",
       "    <tr>\n",
       "      <th>2</th>\n",
       "      <td>2019</td>\n",
       "      <td>Separado/Viudo</td>\n",
       "      <td>32.9</td>\n",
       "      <td>26.5</td>\n",
       "      <td>27.8</td>\n",
       "      <td>26.4</td>\n",
       "      <td>26.4</td>\n",
       "      <td>30.8</td>\n",
       "      <td>26.4</td>\n",
       "    </tr>\n",
       "    <tr>\n",
       "      <th>3</th>\n",
       "      <td>2020</td>\n",
       "      <td>Casada</td>\n",
       "      <td>34.4</td>\n",
       "      <td>37.0</td>\n",
       "      <td>32.8</td>\n",
       "      <td>44.6</td>\n",
       "      <td>28.6</td>\n",
       "      <td>30.8</td>\n",
       "      <td>37.4</td>\n",
       "    </tr>\n",
       "    <tr>\n",
       "      <th>4</th>\n",
       "      <td>2021</td>\n",
       "      <td>Casada</td>\n",
       "      <td>36.8</td>\n",
       "      <td>31.9</td>\n",
       "      <td>32.1</td>\n",
       "      <td>29.6</td>\n",
       "      <td>28.6</td>\n",
       "      <td>34.1</td>\n",
       "      <td>31.9</td>\n",
       "    </tr>\n",
       "  </tbody>\n",
       "</table>\n",
       "</div>"
      ],
      "text/plain": [
       "   Anyo    Estado Civil  Valoracion_A  Valoracion_B  Valoracion_C  \\\n",
       "0  2020          Casado          33.1          25.8          30.8   \n",
       "1  2021          Casado          40.2          36.8          31.4   \n",
       "2  2019  Separado/Viudo          32.9          26.5          27.8   \n",
       "3  2020          Casada          34.4          37.0          32.8   \n",
       "4  2021          Casada          36.8          31.9          32.1   \n",
       "\n",
       "   Valoracion_D  Valoracion_E  Valoracion_F  Valoracion_G  \n",
       "0          30.9          31.9          30.8          25.3  \n",
       "1          26.8          30.8          37.4          37.4  \n",
       "2          26.4          26.4          30.8          26.4  \n",
       "3          44.6          28.6          30.8          37.4  \n",
       "4          29.6          28.6          34.1          31.9  "
      ]
     },
     "execution_count": 3,
     "metadata": {},
     "output_type": "execute_result"
    }
   ],
   "source": [
    "df.head()"
   ]
  },
  {
   "cell_type": "code",
   "execution_count": 19,
   "metadata": {},
   "outputs": [],
   "source": [
    "df=df.drop(columns=[\"Estado Civil\"])"
   ]
  },
  {
   "cell_type": "code",
   "execution_count": 5,
   "metadata": {},
   "outputs": [
    {
     "data": {
      "text/html": [
       "<div>\n",
       "<style scoped>\n",
       "    .dataframe tbody tr th:only-of-type {\n",
       "        vertical-align: middle;\n",
       "    }\n",
       "\n",
       "    .dataframe tbody tr th {\n",
       "        vertical-align: top;\n",
       "    }\n",
       "\n",
       "    .dataframe thead th {\n",
       "        text-align: right;\n",
       "    }\n",
       "</style>\n",
       "<table border=\"1\" class=\"dataframe\">\n",
       "  <thead>\n",
       "    <tr style=\"text-align: right;\">\n",
       "      <th></th>\n",
       "      <th>Anyo</th>\n",
       "      <th>Valoracion_A</th>\n",
       "      <th>Valoracion_B</th>\n",
       "      <th>Valoracion_C</th>\n",
       "      <th>Valoracion_D</th>\n",
       "      <th>Valoracion_E</th>\n",
       "      <th>Valoracion_F</th>\n",
       "      <th>Valoracion_G</th>\n",
       "    </tr>\n",
       "  </thead>\n",
       "  <tbody>\n",
       "    <tr>\n",
       "      <th>0</th>\n",
       "      <td>2020</td>\n",
       "      <td>33.1</td>\n",
       "      <td>25.8</td>\n",
       "      <td>30.8</td>\n",
       "      <td>30.9</td>\n",
       "      <td>31.9</td>\n",
       "      <td>30.8</td>\n",
       "      <td>25.3</td>\n",
       "    </tr>\n",
       "    <tr>\n",
       "      <th>1</th>\n",
       "      <td>2021</td>\n",
       "      <td>40.2</td>\n",
       "      <td>36.8</td>\n",
       "      <td>31.4</td>\n",
       "      <td>26.8</td>\n",
       "      <td>30.8</td>\n",
       "      <td>37.4</td>\n",
       "      <td>37.4</td>\n",
       "    </tr>\n",
       "    <tr>\n",
       "      <th>2</th>\n",
       "      <td>2019</td>\n",
       "      <td>32.9</td>\n",
       "      <td>26.5</td>\n",
       "      <td>27.8</td>\n",
       "      <td>26.4</td>\n",
       "      <td>26.4</td>\n",
       "      <td>30.8</td>\n",
       "      <td>26.4</td>\n",
       "    </tr>\n",
       "    <tr>\n",
       "      <th>3</th>\n",
       "      <td>2020</td>\n",
       "      <td>34.4</td>\n",
       "      <td>37.0</td>\n",
       "      <td>32.8</td>\n",
       "      <td>44.6</td>\n",
       "      <td>28.6</td>\n",
       "      <td>30.8</td>\n",
       "      <td>37.4</td>\n",
       "    </tr>\n",
       "    <tr>\n",
       "      <th>4</th>\n",
       "      <td>2021</td>\n",
       "      <td>36.8</td>\n",
       "      <td>31.9</td>\n",
       "      <td>32.1</td>\n",
       "      <td>29.6</td>\n",
       "      <td>28.6</td>\n",
       "      <td>34.1</td>\n",
       "      <td>31.9</td>\n",
       "    </tr>\n",
       "  </tbody>\n",
       "</table>\n",
       "</div>"
      ],
      "text/plain": [
       "   Anyo  Valoracion_A  Valoracion_B  Valoracion_C  Valoracion_D  Valoracion_E  \\\n",
       "0  2020          33.1          25.8          30.8          30.9          31.9   \n",
       "1  2021          40.2          36.8          31.4          26.8          30.8   \n",
       "2  2019          32.9          26.5          27.8          26.4          26.4   \n",
       "3  2020          34.4          37.0          32.8          44.6          28.6   \n",
       "4  2021          36.8          31.9          32.1          29.6          28.6   \n",
       "\n",
       "   Valoracion_F  Valoracion_G  \n",
       "0          30.8          25.3  \n",
       "1          37.4          37.4  \n",
       "2          30.8          26.4  \n",
       "3          30.8          37.4  \n",
       "4          34.1          31.9  "
      ]
     },
     "execution_count": 5,
     "metadata": {},
     "output_type": "execute_result"
    }
   ],
   "source": [
    "df.head()"
   ]
  },
  {
   "cell_type": "code",
   "execution_count": 8,
   "metadata": {},
   "outputs": [],
   "source": [
    "Variable_Dependiente=\"Anyo\"\n",
    "Variable_Independiente=['Valoracion_A', 'Valoracion_B', 'Valoracion_C', 'Valoracion_D',\n",
    "       'Valoracion_E', 'Valoracion_F', 'Valoracion_G']"
   ]
  },
  {
   "cell_type": "markdown",
   "metadata": {},
   "source": [
    "$$\\hat{\\beta}= (X^T X)^{-1} X^Ty$$"
   ]
  },
  {
   "cell_type": "code",
   "execution_count": 20,
   "metadata": {},
   "outputs": [],
   "source": [
    "df_in=np.array(df[Variable_Independiente].values)\n",
    "df_de=np.array(df[Variable_Dependiente].values)"
   ]
  },
  {
   "cell_type": "code",
   "execution_count": 21,
   "metadata": {},
   "outputs": [
    {
     "data": {
      "text/plain": [
       "array([[3.53073835e+08, 3.20803390e+08, 3.16652368e+08, 3.14216069e+08,\n",
       "        3.04120020e+08, 3.24666257e+08, 3.21298631e+08],\n",
       "       [3.20803390e+08, 2.97175354e+08, 2.89720466e+08, 2.88315421e+08,\n",
       "        2.78782720e+08, 2.94159550e+08, 2.97965234e+08],\n",
       "       [3.16652368e+08, 2.89720466e+08, 2.88591229e+08, 2.83713429e+08,\n",
       "        2.74755134e+08, 2.90492253e+08, 2.89852400e+08],\n",
       "       [3.14216069e+08, 2.88315421e+08, 2.83713429e+08, 2.85856302e+08,\n",
       "        2.73762052e+08, 2.88431232e+08, 2.88822798e+08],\n",
       "       [3.04120020e+08, 2.78782720e+08, 2.74755134e+08, 2.73762052e+08,\n",
       "        2.67820008e+08, 2.79177764e+08, 2.79229705e+08],\n",
       "       [3.24666257e+08, 2.94159550e+08, 2.90492253e+08, 2.88431232e+08,\n",
       "        2.79177764e+08, 2.98704944e+08, 2.94608407e+08],\n",
       "       [3.21298631e+08, 2.97965234e+08, 2.89852400e+08, 2.88822798e+08,\n",
       "        2.79229705e+08, 2.94608407e+08, 2.98824077e+08]])"
      ]
     },
     "execution_count": 21,
     "metadata": {},
     "output_type": "execute_result"
    }
   ],
   "source": [
    "df_in.T @ df_in"
   ]
  },
  {
   "cell_type": "code",
   "execution_count": 25,
   "metadata": {},
   "outputs": [],
   "source": [
    "aes=np.linalg.inv(df_in.T @ df_in)@df_in.T@df_de"
   ]
  },
  {
   "cell_type": "markdown",
   "metadata": {},
   "source": [
    "### bidimensional\n",
    "$$y=ax+b$$\n",
    "### Generalizando\n",
    "$$y=a_1x_1+a_2x_2+...+a_nx_n + b$$"
   ]
  },
  {
   "cell_type": "code",
   "execution_count": null,
   "metadata": {},
   "outputs": [],
   "source": [
    "b=df_de.mean()-"
   ]
  },
  {
   "cell_type": "markdown",
   "metadata": {},
   "source": [
    "Tengo que multiplicar cada elemento de la lista **aes** \n",
    "por su correspondeinte variable en media"
   ]
  },
  {
   "cell_type": "code",
   "execution_count": 29,
   "metadata": {},
   "outputs": [
    {
     "data": {
      "text/plain": [
       "array([34.13825433, 31.29463533, 30.84239133, 30.69647533, 29.69481533,\n",
       "       31.338318  , 31.344819  ])"
      ]
     },
     "execution_count": 29,
     "metadata": {},
     "output_type": "execute_result"
    }
   ],
   "source": [
    "df[Variable_Independiente].mean().values"
   ]
  },
  {
   "cell_type": "code",
   "execution_count": 30,
   "metadata": {},
   "outputs": [
    {
     "data": {
      "text/plain": [
       "7"
      ]
     },
     "execution_count": 30,
     "metadata": {},
     "output_type": "execute_result"
    }
   ],
   "source": [
    "len(aes)"
   ]
  },
  {
   "cell_type": "code",
   "execution_count": 31,
   "metadata": {},
   "outputs": [],
   "source": [
    "a=0\n",
    "for i,j in zip(aes,df[Variable_Independiente].mean().values):\n",
    "    a+=i*j"
   ]
  },
  {
   "cell_type": "code",
   "execution_count": 33,
   "metadata": {},
   "outputs": [
    {
     "data": {
      "text/plain": [
       "3278.908623784772"
      ]
     },
     "execution_count": 33,
     "metadata": {},
     "output_type": "execute_result"
    }
   ],
   "source": [
    "np.dot(aes,df[Variable_Independiente].mean().values)"
   ]
  },
  {
   "cell_type": "code",
   "execution_count": 32,
   "metadata": {},
   "outputs": [
    {
     "data": {
      "text/plain": [
       "3278.908623784772"
      ]
     },
     "execution_count": 32,
     "metadata": {},
     "output_type": "execute_result"
    }
   ],
   "source": [
    "a"
   ]
  },
  {
   "cell_type": "code",
   "execution_count": 34,
   "metadata": {},
   "outputs": [],
   "source": [
    "b=df_de.mean()-a"
   ]
  },
  {
   "cell_type": "code",
   "execution_count": 35,
   "metadata": {},
   "outputs": [
    {
     "data": {
      "text/plain": [
       "-1258.809883784772"
      ]
     },
     "execution_count": 35,
     "metadata": {},
     "output_type": "execute_result"
    }
   ],
   "source": [
    "b"
   ]
  },
  {
   "cell_type": "code",
   "execution_count": 36,
   "metadata": {},
   "outputs": [
    {
     "data": {
      "text/plain": [
       "array([-40.62565159,  97.06280232,  -2.94603173,  15.06855183,\n",
       "        12.53404342,  20.02469191,   8.19361609])"
      ]
     },
     "execution_count": 36,
     "metadata": {},
     "output_type": "execute_result"
    }
   ],
   "source": [
    "aes"
   ]
  },
  {
   "cell_type": "markdown",
   "metadata": {},
   "source": [
    "$y=-40.62565159\\times Valoracion A + \n",
    "    97.06280232 \\times Valoracion B +\n",
    "    \\ldots\n",
    "    8.19361609\\times Valoracion G -1258.809883784772$ "
   ]
  },
  {
   "cell_type": "code",
   "execution_count": null,
   "metadata": {},
   "outputs": [],
   "source": []
  }
 ],
 "metadata": {
  "kernelspec": {
   "display_name": "base",
   "language": "python",
   "name": "python3"
  },
  "language_info": {
   "codemirror_mode": {
    "name": "ipython",
    "version": 3
   },
   "file_extension": ".py",
   "mimetype": "text/x-python",
   "name": "python",
   "nbconvert_exporter": "python",
   "pygments_lexer": "ipython3",
   "version": "3.9.12"
  },
  "orig_nbformat": 4
 },
 "nbformat": 4,
 "nbformat_minor": 2
}
