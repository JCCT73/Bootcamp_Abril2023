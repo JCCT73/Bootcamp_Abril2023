{
 "cells": [
  {
   "cell_type": "code",
   "execution_count": null,
   "metadata": {},
   "outputs": [],
   "source": [
    "## Regresion Lienal Generalizada"
   ]
  },
  {
   "cell_type": "markdown",
   "metadata": {},
   "source": [
    "$$\\hat{y} = \\alpha + \\beta_1 \\times  x_1 +\\ldots \\beta_n \\times x_n + \\varepsilon$$\n",
    "$$ MIN \\varepsilon ^2 = MIN \\sum (y_i - \\hat{y}_i)^2$$\n",
    "$$ MIN \\sum (y_i -\\alpha + \\beta_1 \\times  x_1 +\\ldots \\beta_n \\times x_n )^2$$\n",
    "$$\\hat{\\beta}= (X^T X)^{-1} X^Ty$$"
   ]
  },
  {
   "cell_type": "code",
   "execution_count": null,
   "metadata": {},
   "outputs": [],
   "source": [
    "import pandas as pd\n",
    "import os\n",
    "import numpy as np\n",
    "df=pd.read_csv(\"./Datos/Valoracion.csv\")"
   ]
  },
  {
   "cell_type": "code",
   "execution_count": null,
   "metadata": {},
   "outputs": [],
   "source": [
    "df.head()"
   ]
  },
  {
   "cell_type": "code",
   "execution_count": null,
   "metadata": {},
   "outputs": [],
   "source": [
    "df=df.drop(columns=[\"Estado Civil\"])"
   ]
  },
  {
   "cell_type": "code",
   "execution_count": null,
   "metadata": {},
   "outputs": [],
   "source": [
    "df.head()"
   ]
  },
  {
   "cell_type": "code",
   "execution_count": null,
   "metadata": {},
   "outputs": [],
   "source": [
    "Variable_Dependiente=\"Anyo\"\n",
    "Variable_Independiente=['Valoracion_A', 'Valoracion_B', 'Valoracion_C', 'Valoracion_D',\n",
    "       'Valoracion_E', 'Valoracion_F', 'Valoracion_G']"
   ]
  },
  {
   "cell_type": "markdown",
   "metadata": {},
   "source": [
    "$$\\hat{\\beta}= (X^T X)^{-1} X^Ty$$"
   ]
  },
  {
   "cell_type": "code",
   "execution_count": null,
   "metadata": {},
   "outputs": [],
   "source": [
    "df_in=np.array(df[Variable_Independiente].values)\n",
    "df_de=np.array(df[Variable_Dependiente].values)"
   ]
  },
  {
   "cell_type": "code",
   "execution_count": null,
   "metadata": {},
   "outputs": [],
   "source": [
    "df_in.T @ df_in"
   ]
  },
  {
   "cell_type": "code",
   "execution_count": null,
   "metadata": {},
   "outputs": [],
   "source": [
    "aes=np.linalg.inv(df_in.T @ df_in)@df_in.T@df_de"
   ]
  },
  {
   "cell_type": "markdown",
   "metadata": {},
   "source": [
    "### bidimensional\n",
    "$$y=ax+b$$\n",
    "### Generalizando\n",
    "$$y=a_1x_1+a_2x_2+...+a_nx_n + b$$"
   ]
  },
  {
   "cell_type": "code",
   "execution_count": null,
   "metadata": {},
   "outputs": [],
   "source": [
    "b=df_de.mean()-"
   ]
  },
  {
   "cell_type": "markdown",
   "metadata": {},
   "source": [
    "Tengo que multiplicar cada elemento de la lista **aes** \n",
    "por su correspondeinte variable en media"
   ]
  },
  {
   "cell_type": "code",
   "execution_count": null,
   "metadata": {},
   "outputs": [],
   "source": [
    "df[Variable_Independiente].mean().values"
   ]
  },
  {
   "cell_type": "code",
   "execution_count": null,
   "metadata": {},
   "outputs": [],
   "source": [
    "len(aes)"
   ]
  },
  {
   "cell_type": "code",
   "execution_count": null,
   "metadata": {},
   "outputs": [],
   "source": [
    "a=0\n",
    "for i,j in zip(aes,df[Variable_Independiente].mean().values):\n",
    "    a+=i*j"
   ]
  },
  {
   "cell_type": "code",
   "execution_count": null,
   "metadata": {},
   "outputs": [],
   "source": [
    "np.dot(aes,df[Variable_Independiente].mean().values)"
   ]
  },
  {
   "cell_type": "code",
   "execution_count": null,
   "metadata": {},
   "outputs": [],
   "source": [
    "a"
   ]
  },
  {
   "cell_type": "code",
   "execution_count": null,
   "metadata": {},
   "outputs": [],
   "source": [
    "b=df_de.mean()-a"
   ]
  },
  {
   "cell_type": "code",
   "execution_count": null,
   "metadata": {},
   "outputs": [],
   "source": [
    "b"
   ]
  },
  {
   "cell_type": "code",
   "execution_count": null,
   "metadata": {},
   "outputs": [],
   "source": [
    "aes"
   ]
  },
  {
   "cell_type": "markdown",
   "metadata": {},
   "source": [
    "$y=-40.62565159\\times Valoracion A + \n",
    "    97.06280232 \\times Valoracion B +\n",
    "    \\ldots\n",
    "    8.19361609\\times Valoracion G -1258.809883784772$ "
   ]
  },
  {
   "cell_type": "code",
   "execution_count": null,
   "metadata": {},
   "outputs": [],
   "source": [
    "# Entrenamiento=df[:int(len(df)/2)]\n",
    "# Validacion=df[int(len(df)/2):]"
   ]
  },
  {
   "cell_type": "markdown",
   "metadata": {},
   "source": [
    "Calculad las predicciones a partir de las variables independientes de vuestra muestra de validacion"
   ]
  },
  {
   "cell_type": "markdown",
   "metadata": {},
   "source": [
    "1. Calcluda los coeficientes de la recta de regresión los **aes** y el b del tablon de entrenamiento.\n",
    "2. Calculad los valores estimados a partir de los coefientes calculados ene l paso previo.\n",
    "3. Haced un gráfico comparativo de los valores reales con los valores predichos."
   ]
  },
  {
   "cell_type": "markdown",
   "metadata": {},
   "source": [
    "en el punto 2 lo que hay que hacer es \n",
    "la fila 250000 será multiplicada por los coeficientes aes y se le sumara el valor de b"
   ]
  },
  {
   "cell_type": "markdown",
   "metadata": {},
   "source": [
    "***Coninuando con todo el dataset el alumno debería terminarlo por su cuenta***"
   ]
  },
  {
   "cell_type": "code",
   "execution_count": 40,
   "metadata": {},
   "outputs": [],
   "source": [
    "def prediccion(r):\n",
    "    return b + np.dot(aes,r.values)\n",
    "    "
   ]
  },
  {
   "cell_type": "code",
   "execution_count": 42,
   "metadata": {},
   "outputs": [],
   "source": [
    "df[\"Anyo_prediccion\"]=df[Variable_Independiente].apply(prediccion,axis=1)"
   ]
  },
  {
   "cell_type": "code",
   "execution_count": 43,
   "metadata": {},
   "outputs": [],
   "source": [
    "import matplotlib.pyplot as plt"
   ]
  },
  {
   "cell_type": "code",
   "execution_count": 45,
   "metadata": {},
   "outputs": [
    {
     "data": {
      "image/png": "[encoded data removed]",
      "text/plain": [
       "<Figure size 432x288 with 1 Axes>"
      ]
     },
     "metadata": {
      "needs_background": "light"
     },
     "output_type": "display_data"
    }
   ],
   "source": [
    "plt.scatter(df[\"Anyo_prediccion\"],df[\"Anyo\"]);"
   ]
  },
  {
   "cell_type": "code",
   "execution_count": 46,
   "metadata": {},
   "outputs": [],
   "source": [
    "import statsmodels.formula.api as smf"
   ]
  },
  {
   "cell_type": "code",
   "execution_count": 48,
   "metadata": {},
   "outputs": [
    {
     "data": {
      "text/plain": [
       "['Valoracion_A',\n",
       " 'Valoracion_B',\n",
       " 'Valoracion_C',\n",
       " 'Valoracion_D',\n",
       " 'Valoracion_E',\n",
       " 'Valoracion_F',\n",
       " 'Valoracion_G']"
      ]
     },
     "execution_count": 48,
     "metadata": {},
     "output_type": "execute_result"
    }
   ],
   "source": [
    "Variable_Independiente"
   ]
  },
  {
   "cell_type": "code",
   "execution_count": 49,
   "metadata": {},
   "outputs": [],
   "source": [
    "modelo=smf.ols(\"\"\"Anyo~Valoracion_A + \n",
    "               Valoracion_B + \n",
    "               Valoracion_C +\n",
    "               Valoracion_D +\n",
    "               Valoracion_E + \n",
    "               Valoracion_F + \n",
    "               Valoracion_G\"\"\",data=df).fit()"
   ]
  },
  {
   "cell_type": "code",
   "execution_count": 52,
   "metadata": {},
   "outputs": [],
   "source": [
    "parametros=modelo.params.to_dict()"
   ]
  },
  {
   "cell_type": "code",
   "execution_count": 53,
   "metadata": {},
   "outputs": [
    {
     "data": {
      "text/html": [
       "<table class=\"simpletable\">\n",
       "<caption>OLS Regression Results</caption>\n",
       "<tr>\n",
       "  <th>Dep. Variable:</th>          <td>Anyo</td>       <th>  R-squared:         </th>  <td>   0.000</td>  \n",
       "</tr>\n",
       "<tr>\n",
       "  <th>Model:</th>                   <td>OLS</td>       <th>  Adj. R-squared:    </th>  <td>   0.000</td>  \n",
       "</tr>\n",
       "<tr>\n",
       "  <th>Method:</th>             <td>Least Squares</td>  <th>  F-statistic:       </th>  <td>   2.570</td>  \n",
       "</tr>\n",
       "<tr>\n",
       "  <th>Date:</th>             <td>Fri, 21 Jul 2023</td> <th>  Prob (F-statistic):</th>   <td>0.0248</td>   \n",
       "</tr>\n",
       "<tr>\n",
       "  <th>Time:</th>                 <td>20:57:45</td>     <th>  Log-Likelihood:    </th> <td>-3.7011e+05</td>\n",
       "</tr>\n",
       "<tr>\n",
       "  <th>No. Observations:</th>      <td>300000</td>      <th>  AIC:               </th>  <td>7.402e+05</td> \n",
       "</tr>\n",
       "<tr>\n",
       "  <th>Df Residuals:</th>          <td>299994</td>      <th>  BIC:               </th>  <td>7.403e+05</td> \n",
       "</tr>\n",
       "<tr>\n",
       "  <th>Df Model:</th>              <td>     5</td>      <th>                     </th>      <td> </td>     \n",
       "</tr>\n",
       "<tr>\n",
       "  <th>Covariance Type:</th>      <td>nonrobust</td>    <th>                     </th>      <td> </td>     \n",
       "</tr>\n",
       "</table>\n",
       "<table class=\"simpletable\">\n",
       "<tr>\n",
       "        <td></td>          <th>coef</th>     <th>std err</th>      <th>t</th>      <th>P>|t|</th>  <th>[0.025</th>    <th>0.975]</th>  \n",
       "</tr>\n",
       "<tr>\n",
       "  <th>Intercept</th>    <td> 2020.1079</td> <td>    0.030</td> <td> 6.71e+04</td> <td> 0.000</td> <td> 2020.049</td> <td> 2020.167</td>\n",
       "</tr>\n",
       "<tr>\n",
       "  <th>Valoracion_A</th> <td>   -0.0004</td> <td>    0.000</td> <td>   -1.727</td> <td> 0.084</td> <td>   -0.001</td> <td> 4.76e-05</td>\n",
       "</tr>\n",
       "<tr>\n",
       "  <th>Valoracion_B</th> <td>    0.0004</td> <td>    0.000</td> <td>    2.164</td> <td> 0.030</td> <td> 4.22e-05</td> <td>    0.001</td>\n",
       "</tr>\n",
       "<tr>\n",
       "  <th>Valoracion_C</th> <td>    0.0006</td> <td>    0.000</td> <td>    1.308</td> <td> 0.191</td> <td>   -0.000</td> <td>    0.002</td>\n",
       "</tr>\n",
       "<tr>\n",
       "  <th>Valoracion_D</th> <td> 1.289e-05</td> <td>    0.000</td> <td>    0.027</td> <td> 0.978</td> <td>   -0.001</td> <td>    0.001</td>\n",
       "</tr>\n",
       "<tr>\n",
       "  <th>Valoracion_E</th> <td>   -0.0009</td> <td>    0.000</td> <td>   -2.040</td> <td> 0.041</td> <td>   -0.002</td> <td> -3.7e-05</td>\n",
       "</tr>\n",
       "<tr>\n",
       "  <th>Valoracion_F</th> <td>   -0.0005</td> <td>    0.000</td> <td>   -2.131</td> <td> 0.033</td> <td>   -0.001</td> <td>-4.02e-05</td>\n",
       "</tr>\n",
       "<tr>\n",
       "  <th>Valoracion_G</th> <td>    0.0004</td> <td>    0.000</td> <td>    1.851</td> <td> 0.064</td> <td>-2.48e-05</td> <td>    0.001</td>\n",
       "</tr>\n",
       "</table>\n",
       "<table class=\"simpletable\">\n",
       "<tr>\n",
       "  <th>Omnibus:</th>       <td>1685197.565</td> <th>  Durbin-Watson:     </th> <td>   1.995</td> \n",
       "</tr>\n",
       "<tr>\n",
       "  <th>Prob(Omnibus):</th>   <td> 0.000</td>    <th>  Jarque-Bera (JB):  </th> <td>30899.173</td>\n",
       "</tr>\n",
       "<tr>\n",
       "  <th>Skew:</th>            <td>-0.186</td>    <th>  Prob(JB):          </th> <td>    0.00</td> \n",
       "</tr>\n",
       "<tr>\n",
       "  <th>Kurtosis:</th>        <td> 1.472</td>    <th>  Cond. No.          </th> <td>4.66e+15</td> \n",
       "</tr>\n",
       "</table><br/><br/>Notes:<br/>[1] Standard Errors assume that the covariance matrix of the errors is correctly specified.<br/>[2] The smallest eigenvalue is 9.53e-23. This might indicate that there are<br/>strong multicollinearity problems or that the design matrix is singular."
      ],
      "text/plain": [
       "<class 'statsmodels.iolib.summary.Summary'>\n",
       "\"\"\"\n",
       "                            OLS Regression Results                            \n",
       "==============================================================================\n",
       "Dep. Variable:                   Anyo   R-squared:                       0.000\n",
       "Model:                            OLS   Adj. R-squared:                  0.000\n",
       "Method:                 Least Squares   F-statistic:                     2.570\n",
       "Date:                Fri, 21 Jul 2023   Prob (F-statistic):             0.0248\n",
       "Time:                        20:57:45   Log-Likelihood:            -3.7011e+05\n",
       "No. Observations:              300000   AIC:                         7.402e+05\n",
       "Df Residuals:                  299994   BIC:                         7.403e+05\n",
       "Df Model:                           5                                         \n",
       "Covariance Type:            nonrobust                                         \n",
       "================================================================================\n",
       "                   coef    std err          t      P>|t|      [0.025      0.975]\n",
       "--------------------------------------------------------------------------------\n",
       "Intercept     2020.1079      0.030   6.71e+04      0.000    2020.049    2020.167\n",
       "Valoracion_A    -0.0004      0.000     -1.727      0.084      -0.001    4.76e-05\n",
       "Valoracion_B     0.0004      0.000      2.164      0.030    4.22e-05       0.001\n",
       "Valoracion_C     0.0006      0.000      1.308      0.191      -0.000       0.002\n",
       "Valoracion_D  1.289e-05      0.000      0.027      0.978      -0.001       0.001\n",
       "Valoracion_E    -0.0009      0.000     -2.040      0.041      -0.002    -3.7e-05\n",
       "Valoracion_F    -0.0005      0.000     -2.131      0.033      -0.001   -4.02e-05\n",
       "Valoracion_G     0.0004      0.000      1.851      0.064   -2.48e-05       0.001\n",
       "==============================================================================\n",
       "Omnibus:                  1685197.565   Durbin-Watson:                   1.995\n",
       "Prob(Omnibus):                  0.000   Jarque-Bera (JB):            30899.173\n",
       "Skew:                          -0.186   Prob(JB):                         0.00\n",
       "Kurtosis:                       1.472   Cond. No.                     4.66e+15\n",
       "==============================================================================\n",
       "\n",
       "Notes:\n",
       "[1] Standard Errors assume that the covariance matrix of the errors is correctly specified.\n",
       "[2] The smallest eigenvalue is 9.53e-23. This might indicate that there are\n",
       "strong multicollinearity problems or that the design matrix is singular.\n",
       "\"\"\""
      ]
     },
     "execution_count": 53,
     "metadata": {},
     "output_type": "execute_result"
    }
   ],
   "source": [
    "modelo.summary()"
   ]
  },
  {
   "cell_type": "code",
   "execution_count": 54,
   "metadata": {},
   "outputs": [],
   "source": [
    "modelo1=smf.ols(\"\"\"Anyo~\n",
    "               Valoracion_B + \n",
    "               Valoracion_E + \n",
    "               Valoracion_F\"\"\",data=df).fit()"
   ]
  },
  {
   "cell_type": "code",
   "execution_count": 55,
   "metadata": {},
   "outputs": [
    {
     "data": {
      "text/html": [
       "<table class=\"simpletable\">\n",
       "<caption>OLS Regression Results</caption>\n",
       "<tr>\n",
       "  <th>Dep. Variable:</th>          <td>Anyo</td>       <th>  R-squared:         </th>  <td>   0.000</td>  \n",
       "</tr>\n",
       "<tr>\n",
       "  <th>Model:</th>                   <td>OLS</td>       <th>  Adj. R-squared:    </th>  <td>   0.000</td>  \n",
       "</tr>\n",
       "<tr>\n",
       "  <th>Method:</th>             <td>Least Squares</td>  <th>  F-statistic:       </th>  <td>   3.851</td>  \n",
       "</tr>\n",
       "<tr>\n",
       "  <th>Date:</th>             <td>Fri, 21 Jul 2023</td> <th>  Prob (F-statistic):</th>   <td>0.00909</td>  \n",
       "</tr>\n",
       "<tr>\n",
       "  <th>Time:</th>                 <td>21:06:24</td>     <th>  Log-Likelihood:    </th> <td>-3.7011e+05</td>\n",
       "</tr>\n",
       "<tr>\n",
       "  <th>No. Observations:</th>      <td>300000</td>      <th>  AIC:               </th>  <td>7.402e+05</td> \n",
       "</tr>\n",
       "<tr>\n",
       "  <th>Df Residuals:</th>          <td>299996</td>      <th>  BIC:               </th>  <td>7.403e+05</td> \n",
       "</tr>\n",
       "<tr>\n",
       "  <th>Df Model:</th>              <td>     3</td>      <th>                     </th>      <td> </td>     \n",
       "</tr>\n",
       "<tr>\n",
       "  <th>Covariance Type:</th>      <td>nonrobust</td>    <th>                     </th>      <td> </td>     \n",
       "</tr>\n",
       "</table>\n",
       "<table class=\"simpletable\">\n",
       "<tr>\n",
       "        <td></td>          <th>coef</th>     <th>std err</th>      <th>t</th>      <th>P>|t|</th>  <th>[0.025</th>    <th>0.975]</th>  \n",
       "</tr>\n",
       "<tr>\n",
       "  <th>Intercept</th>    <td> 2020.1218</td> <td>    0.024</td> <td> 8.53e+04</td> <td> 0.000</td> <td> 2020.075</td> <td> 2020.168</td>\n",
       "</tr>\n",
       "<tr>\n",
       "  <th>Valoracion_B</th> <td>    0.0009</td> <td>    0.000</td> <td>    1.988</td> <td> 0.047</td> <td> 1.27e-05</td> <td>    0.002</td>\n",
       "</tr>\n",
       "<tr>\n",
       "  <th>Valoracion_E</th> <td>   -0.0009</td> <td>    0.000</td> <td>   -2.048</td> <td> 0.041</td> <td>   -0.002</td> <td>-4.03e-05</td>\n",
       "</tr>\n",
       "<tr>\n",
       "  <th>Valoracion_F</th> <td>   -0.0007</td> <td>    0.000</td> <td>   -1.811</td> <td> 0.070</td> <td>   -0.002</td> <td> 6.12e-05</td>\n",
       "</tr>\n",
       "</table>\n",
       "<table class=\"simpletable\">\n",
       "<tr>\n",
       "  <th>Omnibus:</th>       <td>1685132.974</td> <th>  Durbin-Watson:     </th> <td>   1.995</td> \n",
       "</tr>\n",
       "<tr>\n",
       "  <th>Prob(Omnibus):</th>   <td> 0.000</td>    <th>  Jarque-Bera (JB):  </th> <td>30899.706</td>\n",
       "</tr>\n",
       "<tr>\n",
       "  <th>Skew:</th>            <td>-0.186</td>    <th>  Prob(JB):          </th> <td>    0.00</td> \n",
       "</tr>\n",
       "<tr>\n",
       "  <th>Kurtosis:</th>        <td> 1.472</td>    <th>  Cond. No.          </th> <td>    834.</td> \n",
       "</tr>\n",
       "</table><br/><br/>Notes:<br/>[1] Standard Errors assume that the covariance matrix of the errors is correctly specified."
      ],
      "text/plain": [
       "<class 'statsmodels.iolib.summary.Summary'>\n",
       "\"\"\"\n",
       "                            OLS Regression Results                            \n",
       "==============================================================================\n",
       "Dep. Variable:                   Anyo   R-squared:                       0.000\n",
       "Model:                            OLS   Adj. R-squared:                  0.000\n",
       "Method:                 Least Squares   F-statistic:                     3.851\n",
       "Date:                Fri, 21 Jul 2023   Prob (F-statistic):            0.00909\n",
       "Time:                        21:06:24   Log-Likelihood:            -3.7011e+05\n",
       "No. Observations:              300000   AIC:                         7.402e+05\n",
       "Df Residuals:                  299996   BIC:                         7.403e+05\n",
       "Df Model:                           3                                         \n",
       "Covariance Type:            nonrobust                                         \n",
       "================================================================================\n",
       "                   coef    std err          t      P>|t|      [0.025      0.975]\n",
       "--------------------------------------------------------------------------------\n",
       "Intercept     2020.1218      0.024   8.53e+04      0.000    2020.075    2020.168\n",
       "Valoracion_B     0.0009      0.000      1.988      0.047    1.27e-05       0.002\n",
       "Valoracion_E    -0.0009      0.000     -2.048      0.041      -0.002   -4.03e-05\n",
       "Valoracion_F    -0.0007      0.000     -1.811      0.070      -0.002    6.12e-05\n",
       "==============================================================================\n",
       "Omnibus:                  1685132.974   Durbin-Watson:                   1.995\n",
       "Prob(Omnibus):                  0.000   Jarque-Bera (JB):            30899.706\n",
       "Skew:                          -0.186   Prob(JB):                         0.00\n",
       "Kurtosis:                       1.472   Cond. No.                         834.\n",
       "==============================================================================\n",
       "\n",
       "Notes:\n",
       "[1] Standard Errors assume that the covariance matrix of the errors is correctly specified.\n",
       "\"\"\""
      ]
     },
     "execution_count": 55,
     "metadata": {},
     "output_type": "execute_result"
    }
   ],
   "source": [
    "modelo1.summary()"
   ]
  },
  {
   "cell_type": "code",
   "execution_count": 56,
   "metadata": {},
   "outputs": [
    {
     "data": {
      "text/plain": [
       "<statsmodels.regression.linear_model.RegressionResultsWrapper at 0x25afb873ac0>"
      ]
     },
     "execution_count": 56,
     "metadata": {},
     "output_type": "execute_result"
    }
   ],
   "source": [
    "modelo1"
   ]
  },
  {
   "cell_type": "code",
   "execution_count": 58,
   "metadata": {},
   "outputs": [],
   "source": [
    "df[\"Anyo_M1\"]=modelo1.predict(df)\n",
    "df[\"Anyo_M\"]=modelo.predict(df)"
   ]
  },
  {
   "cell_type": "code",
   "execution_count": 59,
   "metadata": {},
   "outputs": [
    {
     "data": {
      "image/png": "[encoded data removed]",
      "text/plain": [
       "<Figure size 432x288 with 1 Axes>"
      ]
     },
     "metadata": {
      "needs_background": "light"
     },
     "output_type": "display_data"
    }
   ],
   "source": [
    "plt.scatter(df[\"Anyo_M\"],df[\"Anyo\"]);"
   ]
  },
  {
   "cell_type": "code",
   "execution_count": 60,
   "metadata": {},
   "outputs": [
    {
     "data": {
      "image/png": "[encoded data removed]",
      "text/plain": [
       "<Figure size 432x288 with 1 Axes>"
      ]
     },
     "metadata": {
      "needs_background": "light"
     },
     "output_type": "display_data"
    }
   ],
   "source": [
    "plt.scatter(df[\"Anyo_M1\"],df[\"Anyo\"]);"
   ]
  },
  {
   "cell_type": "code",
   "execution_count": 61,
   "metadata": {},
   "outputs": [
    {
     "data": {
      "image/png": "[encoded data removed]",
      "text/plain": [
       "<Figure size 432x288 with 1 Axes>"
      ]
     },
     "metadata": {
      "needs_background": "light"
     },
     "output_type": "display_data"
    }
   ],
   "source": [
    "plt.scatter(df[\"Anyo_M1\"],df[\"Anyo_M\"]);"
   ]
  },
  {
   "cell_type": "code",
   "execution_count": 62,
   "metadata": {},
   "outputs": [
    {
     "data": {
      "text/html": [
       "<div>\n",
       "<style scoped>\n",
       "    .dataframe tbody tr th:only-of-type {\n",
       "        vertical-align: middle;\n",
       "    }\n",
       "\n",
       "    .dataframe tbody tr th {\n",
       "        vertical-align: top;\n",
       "    }\n",
       "\n",
       "    .dataframe thead th {\n",
       "        text-align: right;\n",
       "    }\n",
       "</style>\n",
       "<table border=\"1\" class=\"dataframe\">\n",
       "  <thead>\n",
       "    <tr style=\"text-align: right;\">\n",
       "      <th></th>\n",
       "      <th>Anyo</th>\n",
       "      <th>Valoracion_A</th>\n",
       "      <th>Valoracion_B</th>\n",
       "      <th>Valoracion_C</th>\n",
       "      <th>Valoracion_D</th>\n",
       "      <th>Valoracion_E</th>\n",
       "      <th>Valoracion_F</th>\n",
       "      <th>Valoracion_G</th>\n",
       "      <th>Anyo_prediccion</th>\n",
       "      <th>Anyo_M1</th>\n",
       "      <th>Anyo_M</th>\n",
       "    </tr>\n",
       "  </thead>\n",
       "  <tbody>\n",
       "    <tr>\n",
       "      <th>Anyo</th>\n",
       "      <td>1.000000</td>\n",
       "      <td>-0.002780</td>\n",
       "      <td>0.003685</td>\n",
       "      <td>0.001751</td>\n",
       "      <td>-0.000211</td>\n",
       "      <td>-0.003745</td>\n",
       "      <td>-0.003365</td>\n",
       "      <td>0.003481</td>\n",
       "      <td>0.003514</td>\n",
       "      <td>0.006205</td>\n",
       "      <td>0.006544</td>\n",
       "    </tr>\n",
       "    <tr>\n",
       "      <th>Valoracion_A</th>\n",
       "      <td>-0.002780</td>\n",
       "      <td>1.000000</td>\n",
       "      <td>0.088060</td>\n",
       "      <td>0.234496</td>\n",
       "      <td>-0.048715</td>\n",
       "      <td>0.000378</td>\n",
       "      <td>0.990940</td>\n",
       "      <td>0.075080</td>\n",
       "      <td>-0.107145</td>\n",
       "      <td>-0.476826</td>\n",
       "      <td>-0.424866</td>\n",
       "    </tr>\n",
       "    <tr>\n",
       "      <th>Valoracion_B</th>\n",
       "      <td>0.003685</td>\n",
       "      <td>0.088060</td>\n",
       "      <td>1.000000</td>\n",
       "      <td>0.048628</td>\n",
       "      <td>0.038200</td>\n",
       "      <td>-0.001144</td>\n",
       "      <td>-0.015330</td>\n",
       "      <td>0.995320</td>\n",
       "      <td>0.961094</td>\n",
       "      <td>0.593866</td>\n",
       "      <td>0.563112</td>\n",
       "    </tr>\n",
       "    <tr>\n",
       "      <th>Valoracion_C</th>\n",
       "      <td>0.001751</td>\n",
       "      <td>0.234496</td>\n",
       "      <td>0.048628</td>\n",
       "      <td>1.000000</td>\n",
       "      <td>-0.097782</td>\n",
       "      <td>-0.000800</td>\n",
       "      <td>0.145720</td>\n",
       "      <td>-0.047616</td>\n",
       "      <td>-0.060528</td>\n",
       "      <td>-0.048731</td>\n",
       "      <td>0.267526</td>\n",
       "    </tr>\n",
       "    <tr>\n",
       "      <th>Valoracion_D</th>\n",
       "      <td>-0.000211</td>\n",
       "      <td>-0.048715</td>\n",
       "      <td>0.038200</td>\n",
       "      <td>-0.097782</td>\n",
       "      <td>1.000000</td>\n",
       "      <td>0.094200</td>\n",
       "      <td>-0.044900</td>\n",
       "      <td>0.047313</td>\n",
       "      <td>0.199015</td>\n",
       "      <td>-0.010480</td>\n",
       "      <td>-0.032299</td>\n",
       "    </tr>\n",
       "    <tr>\n",
       "      <th>Valoracion_E</th>\n",
       "      <td>-0.003745</td>\n",
       "      <td>0.000378</td>\n",
       "      <td>-0.001144</td>\n",
       "      <td>-0.000800</td>\n",
       "      <td>0.094200</td>\n",
       "      <td>1.000000</td>\n",
       "      <td>0.000572</td>\n",
       "      <td>-0.001060</td>\n",
       "      <td>0.127865</td>\n",
       "      <td>-0.603475</td>\n",
       "      <td>-0.572224</td>\n",
       "    </tr>\n",
       "    <tr>\n",
       "      <th>Valoracion_F</th>\n",
       "      <td>-0.003365</td>\n",
       "      <td>0.990940</td>\n",
       "      <td>-0.015330</td>\n",
       "      <td>0.145720</td>\n",
       "      <td>-0.044900</td>\n",
       "      <td>0.000572</td>\n",
       "      <td>1.000000</td>\n",
       "      <td>-0.019568</td>\n",
       "      <td>-0.200953</td>\n",
       "      <td>-0.542255</td>\n",
       "      <td>-0.514174</td>\n",
       "    </tr>\n",
       "    <tr>\n",
       "      <th>Valoracion_G</th>\n",
       "      <td>0.003481</td>\n",
       "      <td>0.075080</td>\n",
       "      <td>0.995320</td>\n",
       "      <td>-0.047616</td>\n",
       "      <td>0.047313</td>\n",
       "      <td>-0.001060</td>\n",
       "      <td>-0.019568</td>\n",
       "      <td>1.000000</td>\n",
       "      <td>0.965214</td>\n",
       "      <td>0.593336</td>\n",
       "      <td>0.531954</td>\n",
       "    </tr>\n",
       "    <tr>\n",
       "      <th>Anyo_prediccion</th>\n",
       "      <td>0.003514</td>\n",
       "      <td>-0.107145</td>\n",
       "      <td>0.961094</td>\n",
       "      <td>-0.060528</td>\n",
       "      <td>0.199015</td>\n",
       "      <td>0.127865</td>\n",
       "      <td>-0.200953</td>\n",
       "      <td>0.965214</td>\n",
       "      <td>1.000000</td>\n",
       "      <td>0.592304</td>\n",
       "      <td>0.536996</td>\n",
       "    </tr>\n",
       "    <tr>\n",
       "      <th>Anyo_M1</th>\n",
       "      <td>0.006205</td>\n",
       "      <td>-0.476826</td>\n",
       "      <td>0.593866</td>\n",
       "      <td>-0.048731</td>\n",
       "      <td>-0.010480</td>\n",
       "      <td>-0.603475</td>\n",
       "      <td>-0.542255</td>\n",
       "      <td>0.593336</td>\n",
       "      <td>0.592304</td>\n",
       "      <td>1.000000</td>\n",
       "      <td>0.948215</td>\n",
       "    </tr>\n",
       "    <tr>\n",
       "      <th>Anyo_M</th>\n",
       "      <td>0.006544</td>\n",
       "      <td>-0.424866</td>\n",
       "      <td>0.563112</td>\n",
       "      <td>0.267526</td>\n",
       "      <td>-0.032299</td>\n",
       "      <td>-0.572224</td>\n",
       "      <td>-0.514174</td>\n",
       "      <td>0.531954</td>\n",
       "      <td>0.536996</td>\n",
       "      <td>0.948215</td>\n",
       "      <td>1.000000</td>\n",
       "    </tr>\n",
       "  </tbody>\n",
       "</table>\n",
       "</div>"
      ],
      "text/plain": [
       "                     Anyo  Valoracion_A  Valoracion_B  Valoracion_C  \\\n",
       "Anyo             1.000000     -0.002780      0.003685      0.001751   \n",
       "Valoracion_A    -0.002780      1.000000      0.088060      0.234496   \n",
       "Valoracion_B     0.003685      0.088060      1.000000      0.048628   \n",
       "Valoracion_C     0.001751      0.234496      0.048628      1.000000   \n",
       "Valoracion_D    -0.000211     -0.048715      0.038200     -0.097782   \n",
       "Valoracion_E    -0.003745      0.000378     -0.001144     -0.000800   \n",
       "Valoracion_F    -0.003365      0.990940     -0.015330      0.145720   \n",
       "Valoracion_G     0.003481      0.075080      0.995320     -0.047616   \n",
       "Anyo_prediccion  0.003514     -0.107145      0.961094     -0.060528   \n",
       "Anyo_M1          0.006205     -0.476826      0.593866     -0.048731   \n",
       "Anyo_M           0.006544     -0.424866      0.563112      0.267526   \n",
       "\n",
       "                 Valoracion_D  Valoracion_E  Valoracion_F  Valoracion_G  \\\n",
       "Anyo                -0.000211     -0.003745     -0.003365      0.003481   \n",
       "Valoracion_A        -0.048715      0.000378      0.990940      0.075080   \n",
       "Valoracion_B         0.038200     -0.001144     -0.015330      0.995320   \n",
       "Valoracion_C        -0.097782     -0.000800      0.145720     -0.047616   \n",
       "Valoracion_D         1.000000      0.094200     -0.044900      0.047313   \n",
       "Valoracion_E         0.094200      1.000000      0.000572     -0.001060   \n",
       "Valoracion_F        -0.044900      0.000572      1.000000     -0.019568   \n",
       "Valoracion_G         0.047313     -0.001060     -0.019568      1.000000   \n",
       "Anyo_prediccion      0.199015      0.127865     -0.200953      0.965214   \n",
       "Anyo_M1             -0.010480     -0.603475     -0.542255      0.593336   \n",
       "Anyo_M              -0.032299     -0.572224     -0.514174      0.531954   \n",
       "\n",
       "                 Anyo_prediccion   Anyo_M1    Anyo_M  \n",
       "Anyo                    0.003514  0.006205  0.006544  \n",
       "Valoracion_A           -0.107145 -0.476826 -0.424866  \n",
       "Valoracion_B            0.961094  0.593866  0.563112  \n",
       "Valoracion_C           -0.060528 -0.048731  0.267526  \n",
       "Valoracion_D            0.199015 -0.010480 -0.032299  \n",
       "Valoracion_E            0.127865 -0.603475 -0.572224  \n",
       "Valoracion_F           -0.200953 -0.542255 -0.514174  \n",
       "Valoracion_G            0.965214  0.593336  0.531954  \n",
       "Anyo_prediccion         1.000000  0.592304  0.536996  \n",
       "Anyo_M1                 0.592304  1.000000  0.948215  \n",
       "Anyo_M                  0.536996  0.948215  1.000000  "
      ]
     },
     "execution_count": 62,
     "metadata": {},
     "output_type": "execute_result"
    }
   ],
   "source": [
    "df.corr()"
   ]
  },
  {
   "cell_type": "code",
   "execution_count": 63,
   "metadata": {},
   "outputs": [],
   "source": [
    "from sklearn.linear_model import LinearRegression"
   ]
  },
  {
   "cell_type": "code",
   "execution_count": 64,
   "metadata": {},
   "outputs": [],
   "source": [
    "modelo_sk=LinearRegression()"
   ]
  },
  {
   "cell_type": "code",
   "execution_count": 65,
   "metadata": {},
   "outputs": [
    {
     "name": "stdout",
     "output_type": "stream",
     "text": [
      "\u001b[1;31mType:\u001b[0m        LinearRegression\n",
      "\u001b[1;31mString form:\u001b[0m LinearRegression()\n",
      "\u001b[1;31mFile:\u001b[0m        c:\\users\\daniel montes\\anaconda3\\lib\\site-packages\\sklearn\\linear_model\\_base.py\n",
      "\u001b[1;31mDocstring:\u001b[0m  \n",
      "Ordinary least squares Linear Regression.\n",
      "\n",
      "LinearRegression fits a linear model with coefficients w = (w1, ..., wp)\n",
      "to minimize the residual sum of squares between the observed targets in\n",
      "the dataset, and the targets predicted by the linear approximation.\n",
      "\n",
      "Parameters\n",
      "----------\n",
      "fit_intercept : bool, default=True\n",
      "    Whether to calculate the intercept for this model. If set\n",
      "    to False, no intercept will be used in calculations\n",
      "    (i.e. data is expected to be centered).\n",
      "\n",
      "normalize : bool, default=False\n",
      "    This parameter is ignored when ``fit_intercept`` is set to False.\n",
      "    If True, the regressors X will be normalized before regression by\n",
      "    subtracting the mean and dividing by the l2-norm.\n",
      "    If you wish to standardize, please use\n",
      "    :class:`~sklearn.preprocessing.StandardScaler` before calling ``fit``\n",
      "    on an estimator with ``normalize=False``.\n",
      "\n",
      "    .. deprecated:: 1.0\n",
      "       `normalize` was deprecated in version 1.0 and will be\n",
      "       removed in 1.2.\n",
      "\n",
      "copy_X : bool, default=True\n",
      "    If True, X will be copied; else, it may be overwritten.\n",
      "\n",
      "n_jobs : int, default=None\n",
      "    The number of jobs to use for the computation. This will only provide\n",
      "    speedup in case of sufficiently large problems, that is if firstly\n",
      "    `n_targets > 1` and secondly `X` is sparse or if `positive` is set\n",
      "    to `True`. ``None`` means 1 unless in a\n",
      "    :obj:`joblib.parallel_backend` context. ``-1`` means using all\n",
      "    processors. See :term:`Glossary <n_jobs>` for more details.\n",
      "\n",
      "positive : bool, default=False\n",
      "    When set to ``True``, forces the coefficients to be positive. This\n",
      "    option is only supported for dense arrays.\n",
      "\n",
      "    .. versionadded:: 0.24\n",
      "\n",
      "Attributes\n",
      "----------\n",
      "coef_ : array of shape (n_features, ) or (n_targets, n_features)\n",
      "    Estimated coefficients for the linear regression problem.\n",
      "    If multiple targets are passed during the fit (y 2D), this\n",
      "    is a 2D array of shape (n_targets, n_features), while if only\n",
      "    one target is passed, this is a 1D array of length n_features.\n",
      "\n",
      "rank_ : int\n",
      "    Rank of matrix `X`. Only available when `X` is dense.\n",
      "\n",
      "singular_ : array of shape (min(X, y),)\n",
      "    Singular values of `X`. Only available when `X` is dense.\n",
      "\n",
      "intercept_ : float or array of shape (n_targets,)\n",
      "    Independent term in the linear model. Set to 0.0 if\n",
      "    `fit_intercept = False`.\n",
      "\n",
      "n_features_in_ : int\n",
      "    Number of features seen during :term:`fit`.\n",
      "\n",
      "    .. versionadded:: 0.24\n",
      "\n",
      "feature_names_in_ : ndarray of shape (`n_features_in_`,)\n",
      "    Names of features seen during :term:`fit`. Defined only when `X`\n",
      "    has feature names that are all strings.\n",
      "\n",
      "    .. versionadded:: 1.0\n",
      "\n",
      "See Also\n",
      "--------\n",
      "Ridge : Ridge regression addresses some of the\n",
      "    problems of Ordinary Least Squares by imposing a penalty on the\n",
      "    size of the coefficients with l2 regularization.\n",
      "Lasso : The Lasso is a linear model that estimates\n",
      "    sparse coefficients with l1 regularization.\n",
      "ElasticNet : Elastic-Net is a linear regression\n",
      "    model trained with both l1 and l2 -norm regularization of the\n",
      "    coefficients.\n",
      "\n",
      "Notes\n",
      "-----\n",
      "From the implementation point of view, this is just plain Ordinary\n",
      "Least Squares (scipy.linalg.lstsq) or Non Negative Least Squares\n",
      "(scipy.optimize.nnls) wrapped as a predictor object.\n",
      "\n",
      "Examples\n",
      "--------\n",
      ">>> import numpy as np\n",
      ">>> from sklearn.linear_model import LinearRegression\n",
      ">>> X = np.array([[1, 1], [1, 2], [2, 2], [2, 3]])\n",
      ">>> # y = 1 * x_0 + 2 * x_1 + 3\n",
      ">>> y = np.dot(X, np.array([1, 2])) + 3\n",
      ">>> reg = LinearRegression().fit(X, y)\n",
      ">>> reg.score(X, y)\n",
      "1.0\n",
      ">>> reg.coef_\n",
      "array([1., 2.])\n",
      ">>> reg.intercept_\n",
      "3.0...\n",
      ">>> reg.predict(np.array([[3, 5]]))\n",
      "array([16.])\n"
     ]
    }
   ],
   "source": [
    "modelo_sk?"
   ]
  },
  {
   "cell_type": "code",
   "execution_count": 67,
   "metadata": {},
   "outputs": [],
   "source": [
    "modelo_entrenado=modelo_sk.fit(df[Variable_Independiente],df[Variable_Dependiente])"
   ]
  },
  {
   "cell_type": "code",
   "execution_count": 69,
   "metadata": {},
   "outputs": [],
   "source": [
    "df[\"Anoy_SK\"]=modelo_entrenado.predict(df[Variable_Independiente])"
   ]
  },
  {
   "cell_type": "code",
   "execution_count": 72,
   "metadata": {},
   "outputs": [
    {
     "data": {
      "text/html": [
       "<div>\n",
       "<style scoped>\n",
       "    .dataframe tbody tr th:only-of-type {\n",
       "        vertical-align: middle;\n",
       "    }\n",
       "\n",
       "    .dataframe tbody tr th {\n",
       "        vertical-align: top;\n",
       "    }\n",
       "\n",
       "    .dataframe thead th {\n",
       "        text-align: right;\n",
       "    }\n",
       "</style>\n",
       "<table border=\"1\" class=\"dataframe\">\n",
       "  <thead>\n",
       "    <tr style=\"text-align: right;\">\n",
       "      <th></th>\n",
       "      <th>Anoy_SK</th>\n",
       "      <th>Anyo_M</th>\n",
       "      <th>Anyo_M1</th>\n",
       "      <th>Anyo_prediccion</th>\n",
       "    </tr>\n",
       "  </thead>\n",
       "  <tbody>\n",
       "    <tr>\n",
       "      <th>0</th>\n",
       "      <td>2020.092305</td>\n",
       "      <td>2020.092289</td>\n",
       "      <td>2020.092125</td>\n",
       "      <td>1499.476806</td>\n",
       "    </tr>\n",
       "    <tr>\n",
       "      <th>1</th>\n",
       "      <td>2020.096809</td>\n",
       "      <td>2020.097819</td>\n",
       "      <td>2020.098140</td>\n",
       "      <td>2432.695097</td>\n",
       "    </tr>\n",
       "    <tr>\n",
       "      <th>2</th>\n",
       "      <td>2020.096446</td>\n",
       "      <td>2020.096405</td>\n",
       "      <td>2020.097919</td>\n",
       "      <td>1456.651249</td>\n",
       "    </tr>\n",
       "    <tr>\n",
       "      <th>3</th>\n",
       "      <td>2020.105842</td>\n",
       "      <td>2020.106415</td>\n",
       "      <td>2020.105305</td>\n",
       "      <td>2792.094353</td>\n",
       "    </tr>\n",
       "    <tr>\n",
       "      <th>4</th>\n",
       "      <td>2020.098459</td>\n",
       "      <td>2020.098707</td>\n",
       "      <td>2020.098254</td>\n",
       "      <td>1996.623037</td>\n",
       "    </tr>\n",
       "    <tr>\n",
       "      <th>...</th>\n",
       "      <td>...</td>\n",
       "      <td>...</td>\n",
       "      <td>...</td>\n",
       "      <td>...</td>\n",
       "    </tr>\n",
       "    <tr>\n",
       "      <th>299995</th>\n",
       "      <td>2020.096080</td>\n",
       "      <td>2020.096103</td>\n",
       "      <td>2020.095393</td>\n",
       "      <td>1614.754461</td>\n",
       "    </tr>\n",
       "    <tr>\n",
       "      <th>299996</th>\n",
       "      <td>2020.102480</td>\n",
       "      <td>2020.102733</td>\n",
       "      <td>2020.099496</td>\n",
       "      <td>1715.319683</td>\n",
       "    </tr>\n",
       "    <tr>\n",
       "      <th>299997</th>\n",
       "      <td>2020.099513</td>\n",
       "      <td>2020.100161</td>\n",
       "      <td>2020.098127</td>\n",
       "      <td>2431.981399</td>\n",
       "    </tr>\n",
       "    <tr>\n",
       "      <th>299998</th>\n",
       "      <td>2020.095189</td>\n",
       "      <td>2020.095848</td>\n",
       "      <td>2020.095966</td>\n",
       "      <td>2126.752925</td>\n",
       "    </tr>\n",
       "    <tr>\n",
       "      <th>299999</th>\n",
       "      <td>2020.100193</td>\n",
       "      <td>2020.100654</td>\n",
       "      <td>2020.102804</td>\n",
       "      <td>2149.476199</td>\n",
       "    </tr>\n",
       "  </tbody>\n",
       "</table>\n",
       "<p>300000 rows × 4 columns</p>\n",
       "</div>"
      ],
      "text/plain": [
       "            Anoy_SK       Anyo_M      Anyo_M1  Anyo_prediccion\n",
       "0       2020.092305  2020.092289  2020.092125      1499.476806\n",
       "1       2020.096809  2020.097819  2020.098140      2432.695097\n",
       "2       2020.096446  2020.096405  2020.097919      1456.651249\n",
       "3       2020.105842  2020.106415  2020.105305      2792.094353\n",
       "4       2020.098459  2020.098707  2020.098254      1996.623037\n",
       "...             ...          ...          ...              ...\n",
       "299995  2020.096080  2020.096103  2020.095393      1614.754461\n",
       "299996  2020.102480  2020.102733  2020.099496      1715.319683\n",
       "299997  2020.099513  2020.100161  2020.098127      2431.981399\n",
       "299998  2020.095189  2020.095848  2020.095966      2126.752925\n",
       "299999  2020.100193  2020.100654  2020.102804      2149.476199\n",
       "\n",
       "[300000 rows x 4 columns]"
      ]
     },
     "execution_count": 72,
     "metadata": {},
     "output_type": "execute_result"
    }
   ],
   "source": [
    "df[[\"Anoy_SK\",\"Anyo_M\",\"Anyo_M1\",\"Anyo_prediccion\"]]"
   ]
  }
 ],
 "metadata": {
  "kernelspec": {
   "display_name": "base",
   "language": "python",
   "name": "python3"
  },
  "language_info": {
   "codemirror_mode": {
    "name": "ipython",
    "version": 3
   },
   "file_extension": ".py",
   "mimetype": "text/x-python",
   "name": "python",
   "nbconvert_exporter": "python",
   "pygments_lexer": "ipython3",
   "version": "3.9.12"
  },
  "orig_nbformat": 4
 },
 "nbformat": 4,
 "nbformat_minor": 2
}
