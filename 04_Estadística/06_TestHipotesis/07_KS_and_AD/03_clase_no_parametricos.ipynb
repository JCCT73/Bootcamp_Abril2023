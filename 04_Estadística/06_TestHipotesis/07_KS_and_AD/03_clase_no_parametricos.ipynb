{
 "cells": [
  {
   "cell_type": "code",
   "execution_count": 1,
   "metadata": {},
   "outputs": [],
   "source": [
    "### Homogeneidad de dos grupos"
   ]
  },
  {
   "cell_type": "code",
   "execution_count": 2,
   "metadata": {},
   "outputs": [],
   "source": [
    "import pandas as pd\n",
    "import numpy as np\n",
    "import os"
   ]
  },
  {
   "cell_type": "code",
   "execution_count": 4,
   "metadata": {},
   "outputs": [
    {
     "data": {
      "text/plain": [
       "['drugstudy.csv',\n",
       " 'employeeratings.csv',\n",
       " 'forceps.csv',\n",
       " 'homogeneidad2grupos.csv',\n",
       " 'homogeneidad3grupos.csv',\n",
       " 'pinetree.csv',\n",
       " 'revenuedata.csv',\n",
       " 'wine.csv']"
      ]
     },
     "execution_count": 4,
     "metadata": {},
     "output_type": "execute_result"
    }
   ],
   "source": [
    "os.listdir(\"./Datos/\")"
   ]
  },
  {
   "cell_type": "code",
   "execution_count": 5,
   "metadata": {},
   "outputs": [],
   "source": [
    "df=pd.read_csv(\"./Datos/homogeneidad2grupos.csv\")"
   ]
  },
  {
   "cell_type": "code",
   "execution_count": 6,
   "metadata": {},
   "outputs": [
    {
     "data": {
      "text/html": [
       "<div>\n",
       "<style scoped>\n",
       "    .dataframe tbody tr th:only-of-type {\n",
       "        vertical-align: middle;\n",
       "    }\n",
       "\n",
       "    .dataframe tbody tr th {\n",
       "        vertical-align: top;\n",
       "    }\n",
       "\n",
       "    .dataframe thead th {\n",
       "        text-align: right;\n",
       "    }\n",
       "</style>\n",
       "<table border=\"1\" class=\"dataframe\">\n",
       "  <thead>\n",
       "    <tr style=\"text-align: right;\">\n",
       "      <th></th>\n",
       "      <th>salary</th>\n",
       "      <th>position</th>\n",
       "    </tr>\n",
       "  </thead>\n",
       "  <tbody>\n",
       "    <tr>\n",
       "      <th>0</th>\n",
       "      <td>57727.0</td>\n",
       "      <td>2.0</td>\n",
       "    </tr>\n",
       "    <tr>\n",
       "      <th>1</th>\n",
       "      <td>39907.0</td>\n",
       "      <td>1.0</td>\n",
       "    </tr>\n",
       "    <tr>\n",
       "      <th>2</th>\n",
       "      <td>46659.0</td>\n",
       "      <td>2.0</td>\n",
       "    </tr>\n",
       "    <tr>\n",
       "      <th>3</th>\n",
       "      <td>40233.0</td>\n",
       "      <td>1.0</td>\n",
       "    </tr>\n",
       "    <tr>\n",
       "      <th>4</th>\n",
       "      <td>42198.0</td>\n",
       "      <td>1.0</td>\n",
       "    </tr>\n",
       "  </tbody>\n",
       "</table>\n",
       "</div>"
      ],
      "text/plain": [
       "    salary  position\n",
       "0  57727.0       2.0\n",
       "1  39907.0       1.0\n",
       "2  46659.0       2.0\n",
       "3  40233.0       1.0\n",
       "4  42198.0       1.0"
      ]
     },
     "execution_count": 6,
     "metadata": {},
     "output_type": "execute_result"
    }
   ],
   "source": [
    "df.head()"
   ]
  },
  {
   "cell_type": "code",
   "execution_count": 7,
   "metadata": {},
   "outputs": [
    {
     "name": "stdout",
     "output_type": "stream",
     "text": [
      "<class 'pandas.core.frame.DataFrame'>\n",
      "RangeIndex: 20 entries, 0 to 19\n",
      "Data columns (total 2 columns):\n",
      " #   Column    Non-Null Count  Dtype  \n",
      "---  ------    --------------  -----  \n",
      " 0   salary    20 non-null     float64\n",
      " 1   position  20 non-null     float64\n",
      "dtypes: float64(2)\n",
      "memory usage: 448.0 bytes\n"
     ]
    }
   ],
   "source": [
    "df.info()"
   ]
  },
  {
   "cell_type": "code",
   "execution_count": 8,
   "metadata": {},
   "outputs": [],
   "source": [
    "grupo1=df[df.position==1.0]\n",
    "grupo2=df[df.position==2.0]"
   ]
  },
  {
   "cell_type": "code",
   "execution_count": 9,
   "metadata": {},
   "outputs": [
    {
     "data": {
      "text/plain": [
       "(10, 2)"
      ]
     },
     "execution_count": 9,
     "metadata": {},
     "output_type": "execute_result"
    }
   ],
   "source": [
    "grupo1.shape"
   ]
  },
  {
   "cell_type": "code",
   "execution_count": 10,
   "metadata": {},
   "outputs": [
    {
     "data": {
      "text/plain": [
       "(10, 2)"
      ]
     },
     "execution_count": 10,
     "metadata": {},
     "output_type": "execute_result"
    }
   ],
   "source": [
    "grupo2.shape"
   ]
  },
  {
   "cell_type": "code",
   "execution_count": 13,
   "metadata": {},
   "outputs": [],
   "source": [
    "from scipy.stats import levene"
   ]
  },
  {
   "cell_type": "code",
   "execution_count": 12,
   "metadata": {},
   "outputs": [
    {
     "name": "stdout",
     "output_type": "stream",
     "text": [
      "\u001b[1;31mSignature:\u001b[0m \u001b[0mlevene\u001b[0m\u001b[1;33m(\u001b[0m\u001b[1;33m*\u001b[0m\u001b[0margs\u001b[0m\u001b[1;33m,\u001b[0m \u001b[0mcenter\u001b[0m\u001b[1;33m=\u001b[0m\u001b[1;34m'median'\u001b[0m\u001b[1;33m,\u001b[0m \u001b[0mproportiontocut\u001b[0m\u001b[1;33m=\u001b[0m\u001b[1;36m0.05\u001b[0m\u001b[1;33m)\u001b[0m\u001b[1;33m\u001b[0m\u001b[1;33m\u001b[0m\u001b[0m\n",
      "\u001b[1;31mDocstring:\u001b[0m\n",
      "Perform Levene test for equal variances.\n",
      "\n",
      "The Levene test tests the null hypothesis that all input samples\n",
      "are from populations with equal variances.  Levene's test is an\n",
      "alternative to Bartlett's test `bartlett` in the case where\n",
      "there are significant deviations from normality.\n",
      "\n",
      "Parameters\n",
      "----------\n",
      "sample1, sample2, ... : array_like\n",
      "    The sample data, possibly with different lengths. Only one-dimensional\n",
      "    samples are accepted.\n",
      "center : {'mean', 'median', 'trimmed'}, optional\n",
      "    Which function of the data to use in the test.  The default\n",
      "    is 'median'.\n",
      "proportiontocut : float, optional\n",
      "    When `center` is 'trimmed', this gives the proportion of data points\n",
      "    to cut from each end. (See `scipy.stats.trim_mean`.)\n",
      "    Default is 0.05.\n",
      "\n",
      "Returns\n",
      "-------\n",
      "statistic : float\n",
      "    The test statistic.\n",
      "pvalue : float\n",
      "    The p-value for the test.\n",
      "\n",
      "Notes\n",
      "-----\n",
      "Three variations of Levene's test are possible.  The possibilities\n",
      "and their recommended usages are:\n",
      "\n",
      "  * 'median' : Recommended for skewed (non-normal) distributions>\n",
      "  * 'mean' : Recommended for symmetric, moderate-tailed distributions.\n",
      "  * 'trimmed' : Recommended for heavy-tailed distributions.\n",
      "\n",
      "The test version using the mean was proposed in the original article\n",
      "of Levene ([2]_) while the median and trimmed mean have been studied by\n",
      "Brown and Forsythe ([3]_), sometimes also referred to as Brown-Forsythe\n",
      "test.\n",
      "\n",
      "References\n",
      "----------\n",
      ".. [1] https://www.itl.nist.gov/div898/handbook/eda/section3/eda35a.htm\n",
      ".. [2] Levene, H. (1960). In Contributions to Probability and Statistics:\n",
      "       Essays in Honor of Harold Hotelling, I. Olkin et al. eds.,\n",
      "       Stanford University Press, pp. 278-292.\n",
      ".. [3] Brown, M. B. and Forsythe, A. B. (1974), Journal of the American\n",
      "       Statistical Association, 69, 364-367\n",
      "\n",
      "Examples\n",
      "--------\n",
      "Test whether or not the lists `a`, `b` and `c` come from populations\n",
      "with equal variances.\n",
      "\n",
      ">>> from scipy.stats import levene\n",
      ">>> a = [8.88, 9.12, 9.04, 8.98, 9.00, 9.08, 9.01, 8.85, 9.06, 8.99]\n",
      ">>> b = [8.88, 8.95, 9.29, 9.44, 9.15, 9.58, 8.36, 9.18, 8.67, 9.05]\n",
      ">>> c = [8.95, 9.12, 8.95, 8.85, 9.03, 8.84, 9.07, 8.98, 8.86, 8.98]\n",
      ">>> stat, p = levene(a, b, c)\n",
      ">>> p\n",
      "0.002431505967249681\n",
      "\n",
      "The small p-value suggests that the populations do not have equal\n",
      "variances.\n",
      "\n",
      "This is not surprising, given that the sample variance of `b` is much\n",
      "larger than that of `a` and `c`:\n",
      "\n",
      ">>> [np.var(x, ddof=1) for x in [a, b, c]]\n",
      "[0.007054444444444413, 0.13073888888888888, 0.008890000000000002]\n",
      "\u001b[1;31mFile:\u001b[0m      c:\\users\\daniel montes\\anaconda3\\lib\\site-packages\\scipy\\stats\\morestats.py\n",
      "\u001b[1;31mType:\u001b[0m      function\n"
     ]
    }
   ],
   "source": [
    "levene?"
   ]
  },
  {
   "cell_type": "markdown",
   "metadata": {},
   "source": [
    "$$H_0 : \\sigma_1 = \\sigma_2$$\n",
    "$$H_1: \\sigma_1 \\neq \\sigma_2$$"
   ]
  },
  {
   "cell_type": "code",
   "execution_count": 15,
   "metadata": {},
   "outputs": [
    {
     "data": {
      "text/plain": [
       "LeveneResult(statistic=11.318235429256069, pvalue=0.0034542567782278265)"
      ]
     },
     "execution_count": 15,
     "metadata": {},
     "output_type": "execute_result"
    }
   ],
   "source": [
    "levene(grupo1.salary,grupo2.salary)"
   ]
  },
  {
   "cell_type": "code",
   "execution_count": 16,
   "metadata": {},
   "outputs": [
    {
     "data": {
      "text/plain": [
       "LeveneResult(statistic=11.402085842910381, pvalue=0.0033604796159699404)"
      ]
     },
     "execution_count": 16,
     "metadata": {},
     "output_type": "execute_result"
    }
   ],
   "source": [
    "levene(grupo1.salary,grupo2.salary,center=\"mean\")"
   ]
  },
  {
   "cell_type": "markdown",
   "metadata": {},
   "source": [
    "## Ejercicios \n",
    "del fichero homogenidasd3grupo estudiar si tienen la misma varainza los tres o dos a dos.\n",
    "**Estudiad si tienen la misma media**"
   ]
  },
  {
   "cell_type": "markdown",
   "metadata": {},
   "source": []
  }
 ],
 "metadata": {
  "kernelspec": {
   "display_name": "base",
   "language": "python",
   "name": "python3"
  },
  "language_info": {
   "codemirror_mode": {
    "name": "ipython",
    "version": 3
   },
   "file_extension": ".py",
   "mimetype": "text/x-python",
   "name": "python",
   "nbconvert_exporter": "python",
   "pygments_lexer": "ipython3",
   "version": "3.9.12"
  },
  "orig_nbformat": 4
 },
 "nbformat": 4,
 "nbformat_minor": 2
}
