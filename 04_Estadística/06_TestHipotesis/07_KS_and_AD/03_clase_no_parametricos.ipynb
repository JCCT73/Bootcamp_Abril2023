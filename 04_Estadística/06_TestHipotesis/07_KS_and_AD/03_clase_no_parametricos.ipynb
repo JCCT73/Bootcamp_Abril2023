{
 "cells": [
  {
   "cell_type": "code",
   "execution_count": 1,
   "metadata": {},
   "outputs": [],
   "source": [
    "### Homogeneidad de dos grupos"
   ]
  },
  {
   "cell_type": "code",
   "execution_count": 2,
   "metadata": {},
   "outputs": [],
   "source": [
    "import pandas as pd\n",
    "import numpy as np\n",
    "import os"
   ]
  },
  {
   "cell_type": "code",
   "execution_count": 4,
   "metadata": {},
   "outputs": [
    {
     "data": {
      "text/plain": [
       "['drugstudy.csv',\n",
       " 'employeeratings.csv',\n",
       " 'forceps.csv',\n",
       " 'homogeneidad2grupos.csv',\n",
       " 'homogeneidad3grupos.csv',\n",
       " 'pinetree.csv',\n",
       " 'revenuedata.csv',\n",
       " 'wine.csv']"
      ]
     },
     "execution_count": 4,
     "metadata": {},
     "output_type": "execute_result"
    }
   ],
   "source": [
    "os.listdir(\"./Datos/\")"
   ]
  },
  {
   "cell_type": "code",
   "execution_count": 5,
   "metadata": {},
   "outputs": [],
   "source": [
    "df=pd.read_csv(\"./Datos/homogeneidad2grupos.csv\")"
   ]
  },
  {
   "cell_type": "code",
   "execution_count": 6,
   "metadata": {},
   "outputs": [
    {
     "data": {
      "text/html": [
       "<div>\n",
       "<style scoped>\n",
       "    .dataframe tbody tr th:only-of-type {\n",
       "        vertical-align: middle;\n",
       "    }\n",
       "\n",
       "    .dataframe tbody tr th {\n",
       "        vertical-align: top;\n",
       "    }\n",
       "\n",
       "    .dataframe thead th {\n",
       "        text-align: right;\n",
       "    }\n",
       "</style>\n",
       "<table border=\"1\" class=\"dataframe\">\n",
       "  <thead>\n",
       "    <tr style=\"text-align: right;\">\n",
       "      <th></th>\n",
       "      <th>salary</th>\n",
       "      <th>position</th>\n",
       "    </tr>\n",
       "  </thead>\n",
       "  <tbody>\n",
       "    <tr>\n",
       "      <th>0</th>\n",
       "      <td>57727.0</td>\n",
       "      <td>2.0</td>\n",
       "    </tr>\n",
       "    <tr>\n",
       "      <th>1</th>\n",
       "      <td>39907.0</td>\n",
       "      <td>1.0</td>\n",
       "    </tr>\n",
       "    <tr>\n",
       "      <th>2</th>\n",
       "      <td>46659.0</td>\n",
       "      <td>2.0</td>\n",
       "    </tr>\n",
       "    <tr>\n",
       "      <th>3</th>\n",
       "      <td>40233.0</td>\n",
       "      <td>1.0</td>\n",
       "    </tr>\n",
       "    <tr>\n",
       "      <th>4</th>\n",
       "      <td>42198.0</td>\n",
       "      <td>1.0</td>\n",
       "    </tr>\n",
       "  </tbody>\n",
       "</table>\n",
       "</div>"
      ],
      "text/plain": [
       "    salary  position\n",
       "0  57727.0       2.0\n",
       "1  39907.0       1.0\n",
       "2  46659.0       2.0\n",
       "3  40233.0       1.0\n",
       "4  42198.0       1.0"
      ]
     },
     "execution_count": 6,
     "metadata": {},
     "output_type": "execute_result"
    }
   ],
   "source": [
    "df.head()"
   ]
  },
  {
   "cell_type": "code",
   "execution_count": 7,
   "metadata": {},
   "outputs": [
    {
     "name": "stdout",
     "output_type": "stream",
     "text": [
      "<class 'pandas.core.frame.DataFrame'>\n",
      "RangeIndex: 20 entries, 0 to 19\n",
      "Data columns (total 2 columns):\n",
      " #   Column    Non-Null Count  Dtype  \n",
      "---  ------    --------------  -----  \n",
      " 0   salary    20 non-null     float64\n",
      " 1   position  20 non-null     float64\n",
      "dtypes: float64(2)\n",
      "memory usage: 448.0 bytes\n"
     ]
    }
   ],
   "source": [
    "df.info()"
   ]
  },
  {
   "cell_type": "code",
   "execution_count": 8,
   "metadata": {},
   "outputs": [],
   "source": [
    "grupo1=df[df.position==1.0]\n",
    "grupo2=df[df.position==2.0]"
   ]
  },
  {
   "cell_type": "code",
   "execution_count": 9,
   "metadata": {},
   "outputs": [
    {
     "data": {
      "text/plain": [
       "(10, 2)"
      ]
     },
     "execution_count": 9,
     "metadata": {},
     "output_type": "execute_result"
    }
   ],
   "source": [
    "grupo1.shape"
   ]
  },
  {
   "cell_type": "code",
   "execution_count": 10,
   "metadata": {},
   "outputs": [
    {
     "data": {
      "text/plain": [
       "(10, 2)"
      ]
     },
     "execution_count": 10,
     "metadata": {},
     "output_type": "execute_result"
    }
   ],
   "source": [
    "grupo2.shape"
   ]
  },
  {
   "cell_type": "code",
   "execution_count": 13,
   "metadata": {},
   "outputs": [],
   "source": [
    "from scipy.stats import levene"
   ]
  },
  {
   "cell_type": "code",
   "execution_count": 12,
   "metadata": {},
   "outputs": [
    {
     "name": "stdout",
     "output_type": "stream",
     "text": [
      "\u001b[1;31mSignature:\u001b[0m \u001b[0mlevene\u001b[0m\u001b[1;33m(\u001b[0m\u001b[1;33m*\u001b[0m\u001b[0margs\u001b[0m\u001b[1;33m,\u001b[0m \u001b[0mcenter\u001b[0m\u001b[1;33m=\u001b[0m\u001b[1;34m'median'\u001b[0m\u001b[1;33m,\u001b[0m \u001b[0mproportiontocut\u001b[0m\u001b[1;33m=\u001b[0m\u001b[1;36m0.05\u001b[0m\u001b[1;33m)\u001b[0m\u001b[1;33m\u001b[0m\u001b[1;33m\u001b[0m\u001b[0m\n",
      "\u001b[1;31mDocstring:\u001b[0m\n",
      "Perform Levene test for equal variances.\n",
      "\n",
      "The Levene test tests the null hypothesis that all input samples\n",
      "are from populations with equal variances.  Levene's test is an\n",
      "alternative to Bartlett's test `bartlett` in the case where\n",
      "there are significant deviations from normality.\n",
      "\n",
      "Parameters\n",
      "----------\n",
      "sample1, sample2, ... : array_like\n",
      "    The sample data, possibly with different lengths. Only one-dimensional\n",
      "    samples are accepted.\n",
      "center : {'mean', 'median', 'trimmed'}, optional\n",
      "    Which function of the data to use in the test.  The default\n",
      "    is 'median'.\n",
      "proportiontocut : float, optional\n",
      "    When `center` is 'trimmed', this gives the proportion of data points\n",
      "    to cut from each end. (See `scipy.stats.trim_mean`.)\n",
      "    Default is 0.05.\n",
      "\n",
      "Returns\n",
      "-------\n",
      "statistic : float\n",
      "    The test statistic.\n",
      "pvalue : float\n",
      "    The p-value for the test.\n",
      "\n",
      "Notes\n",
      "-----\n",
      "Three variations of Levene's test are possible.  The possibilities\n",
      "and their recommended usages are:\n",
      "\n",
      "  * 'median' : Recommended for skewed (non-normal) distributions>\n",
      "  * 'mean' : Recommended for symmetric, moderate-tailed distributions.\n",
      "  * 'trimmed' : Recommended for heavy-tailed distributions.\n",
      "\n",
      "The test version using the mean was proposed in the original article\n",
      "of Levene ([2]_) while the median and trimmed mean have been studied by\n",
      "Brown and Forsythe ([3]_), sometimes also referred to as Brown-Forsythe\n",
      "test.\n",
      "\n",
      "References\n",
      "----------\n",
      ".. [1] https://www.itl.nist.gov/div898/handbook/eda/section3/eda35a.htm\n",
      ".. [2] Levene, H. (1960). In Contributions to Probability and Statistics:\n",
      "       Essays in Honor of Harold Hotelling, I. Olkin et al. eds.,\n",
      "       Stanford University Press, pp. 278-292.\n",
      ".. [3] Brown, M. B. and Forsythe, A. B. (1974), Journal of the American\n",
      "       Statistical Association, 69, 364-367\n",
      "\n",
      "Examples\n",
      "--------\n",
      "Test whether or not the lists `a`, `b` and `c` come from populations\n",
      "with equal variances.\n",
      "\n",
      ">>> from scipy.stats import levene\n",
      ">>> a = [8.88, 9.12, 9.04, 8.98, 9.00, 9.08, 9.01, 8.85, 9.06, 8.99]\n",
      ">>> b = [8.88, 8.95, 9.29, 9.44, 9.15, 9.58, 8.36, 9.18, 8.67, 9.05]\n",
      ">>> c = [8.95, 9.12, 8.95, 8.85, 9.03, 8.84, 9.07, 8.98, 8.86, 8.98]\n",
      ">>> stat, p = levene(a, b, c)\n",
      ">>> p\n",
      "0.002431505967249681\n",
      "\n",
      "The small p-value suggests that the populations do not have equal\n",
      "variances.\n",
      "\n",
      "This is not surprising, given that the sample variance of `b` is much\n",
      "larger than that of `a` and `c`:\n",
      "\n",
      ">>> [np.var(x, ddof=1) for x in [a, b, c]]\n",
      "[0.007054444444444413, 0.13073888888888888, 0.008890000000000002]\n",
      "\u001b[1;31mFile:\u001b[0m      c:\\users\\daniel montes\\anaconda3\\lib\\site-packages\\scipy\\stats\\morestats.py\n",
      "\u001b[1;31mType:\u001b[0m      function\n"
     ]
    }
   ],
   "source": [
    "levene?"
   ]
  },
  {
   "cell_type": "markdown",
   "metadata": {},
   "source": [
    "$$H_0 : \\sigma_1 = \\sigma_2$$\n",
    "$$H_1: \\sigma_1 \\neq \\sigma_2$$"
   ]
  },
  {
   "cell_type": "code",
   "execution_count": 15,
   "metadata": {},
   "outputs": [
    {
     "data": {
      "text/plain": [
       "LeveneResult(statistic=11.318235429256069, pvalue=0.0034542567782278265)"
      ]
     },
     "execution_count": 15,
     "metadata": {},
     "output_type": "execute_result"
    }
   ],
   "source": [
    "levene(grupo1.salary,grupo2.salary)"
   ]
  },
  {
   "cell_type": "code",
   "execution_count": 16,
   "metadata": {},
   "outputs": [
    {
     "data": {
      "text/plain": [
       "LeveneResult(statistic=11.402085842910381, pvalue=0.0033604796159699404)"
      ]
     },
     "execution_count": 16,
     "metadata": {},
     "output_type": "execute_result"
    }
   ],
   "source": [
    "levene(grupo1.salary,grupo2.salary,center=\"mean\")"
   ]
  },
  {
   "cell_type": "markdown",
   "metadata": {},
   "source": [
    "## Ejercicios \n",
    "del fichero homogenidasd3grupo estudiar si tienen la misma varainza los tres o dos a dos.\n",
    "**Estudiad si tienen la misma media**"
   ]
  },
  {
   "cell_type": "markdown",
   "metadata": {},
   "source": [
    "## MANN WHITNEY o Prueba U\n",
    "### Para detectar si dos grupos son independientes\n",
    "Por cada grupo necesitaremos más de 20 muestra"
   ]
  },
  {
   "cell_type": "code",
   "execution_count": 17,
   "metadata": {},
   "outputs": [
    {
     "data": {
      "text/plain": [
       "['drugstudy.csv',\n",
       " 'employeeratings.csv',\n",
       " 'forceps.csv',\n",
       " 'homogeneidad2grupos.csv',\n",
       " 'homogeneidad3grupos.csv',\n",
       " 'pinetree.csv',\n",
       " 'revenuedata.csv',\n",
       " 'wine.csv']"
      ]
     },
     "execution_count": 17,
     "metadata": {},
     "output_type": "execute_result"
    }
   ],
   "source": [
    "os.listdir(\"./Datos\")"
   ]
  },
  {
   "cell_type": "code",
   "execution_count": 18,
   "metadata": {},
   "outputs": [],
   "source": [
    "df=pd.read_csv('./Datos/forceps.csv')"
   ]
  },
  {
   "cell_type": "code",
   "execution_count": 19,
   "metadata": {},
   "outputs": [
    {
     "data": {
      "text/html": [
       "<div>\n",
       "<style scoped>\n",
       "    .dataframe tbody tr th:only-of-type {\n",
       "        vertical-align: middle;\n",
       "    }\n",
       "\n",
       "    .dataframe tbody tr th {\n",
       "        vertical-align: top;\n",
       "    }\n",
       "\n",
       "    .dataframe thead th {\n",
       "        text-align: right;\n",
       "    }\n",
       "</style>\n",
       "<table border=\"1\" class=\"dataframe\">\n",
       "  <thead>\n",
       "    <tr style=\"text-align: right;\">\n",
       "      <th></th>\n",
       "      <th>Forceps</th>\n",
       "      <th>Resection</th>\n",
       "    </tr>\n",
       "  </thead>\n",
       "  <tbody>\n",
       "    <tr>\n",
       "      <th>0</th>\n",
       "      <td>2.0</td>\n",
       "      <td>2.0</td>\n",
       "    </tr>\n",
       "    <tr>\n",
       "      <th>1</th>\n",
       "      <td>1.0</td>\n",
       "      <td>2.0</td>\n",
       "    </tr>\n",
       "    <tr>\n",
       "      <th>2</th>\n",
       "      <td>2.0</td>\n",
       "      <td>3.0</td>\n",
       "    </tr>\n",
       "    <tr>\n",
       "      <th>3</th>\n",
       "      <td>1.0</td>\n",
       "      <td>1.0</td>\n",
       "    </tr>\n",
       "    <tr>\n",
       "      <th>4</th>\n",
       "      <td>1.0</td>\n",
       "      <td>2.0</td>\n",
       "    </tr>\n",
       "    <tr>\n",
       "      <th>5</th>\n",
       "      <td>1.0</td>\n",
       "      <td>3.0</td>\n",
       "    </tr>\n",
       "    <tr>\n",
       "      <th>6</th>\n",
       "      <td>2.0</td>\n",
       "      <td>3.0</td>\n",
       "    </tr>\n",
       "    <tr>\n",
       "      <th>7</th>\n",
       "      <td>2.0</td>\n",
       "      <td>3.0</td>\n",
       "    </tr>\n",
       "    <tr>\n",
       "      <th>8</th>\n",
       "      <td>1.0</td>\n",
       "      <td>2.0</td>\n",
       "    </tr>\n",
       "    <tr>\n",
       "      <th>9</th>\n",
       "      <td>1.0</td>\n",
       "      <td>1.0</td>\n",
       "    </tr>\n",
       "    <tr>\n",
       "      <th>10</th>\n",
       "      <td>1.0</td>\n",
       "      <td>3.0</td>\n",
       "    </tr>\n",
       "    <tr>\n",
       "      <th>11</th>\n",
       "      <td>2.0</td>\n",
       "      <td>2.0</td>\n",
       "    </tr>\n",
       "    <tr>\n",
       "      <th>12</th>\n",
       "      <td>1.0</td>\n",
       "      <td>1.0</td>\n",
       "    </tr>\n",
       "    <tr>\n",
       "      <th>13</th>\n",
       "      <td>2.0</td>\n",
       "      <td>4.0</td>\n",
       "    </tr>\n",
       "    <tr>\n",
       "      <th>14</th>\n",
       "      <td>2.0</td>\n",
       "      <td>3.0</td>\n",
       "    </tr>\n",
       "    <tr>\n",
       "      <th>15</th>\n",
       "      <td>2.0</td>\n",
       "      <td>3.0</td>\n",
       "    </tr>\n",
       "    <tr>\n",
       "      <th>16</th>\n",
       "      <td>1.0</td>\n",
       "      <td>2.0</td>\n",
       "    </tr>\n",
       "    <tr>\n",
       "      <th>17</th>\n",
       "      <td>2.0</td>\n",
       "      <td>2.0</td>\n",
       "    </tr>\n",
       "    <tr>\n",
       "      <th>18</th>\n",
       "      <td>2.0</td>\n",
       "      <td>4.0</td>\n",
       "    </tr>\n",
       "    <tr>\n",
       "      <th>19</th>\n",
       "      <td>2.0</td>\n",
       "      <td>2.0</td>\n",
       "    </tr>\n",
       "    <tr>\n",
       "      <th>20</th>\n",
       "      <td>2.0</td>\n",
       "      <td>2.0</td>\n",
       "    </tr>\n",
       "  </tbody>\n",
       "</table>\n",
       "</div>"
      ],
      "text/plain": [
       "    Forceps  Resection\n",
       "0       2.0        2.0\n",
       "1       1.0        2.0\n",
       "2       2.0        3.0\n",
       "3       1.0        1.0\n",
       "4       1.0        2.0\n",
       "5       1.0        3.0\n",
       "6       2.0        3.0\n",
       "7       2.0        3.0\n",
       "8       1.0        2.0\n",
       "9       1.0        1.0\n",
       "10      1.0        3.0\n",
       "11      2.0        2.0\n",
       "12      1.0        1.0\n",
       "13      2.0        4.0\n",
       "14      2.0        3.0\n",
       "15      2.0        3.0\n",
       "16      1.0        2.0\n",
       "17      2.0        2.0\n",
       "18      2.0        4.0\n",
       "19      2.0        2.0\n",
       "20      2.0        2.0"
      ]
     },
     "execution_count": 19,
     "metadata": {},
     "output_type": "execute_result"
    }
   ],
   "source": [
    "df"
   ]
  },
  {
   "cell_type": "markdown",
   "metadata": {},
   "source": [
    "* Estadar son los Forceps=1\n",
    "* Jumbo son los Forceps=2\n",
    "¿diferencias significativas?"
   ]
  },
  {
   "cell_type": "code",
   "execution_count": 21,
   "metadata": {},
   "outputs": [],
   "source": [
    "from scipy.stats import mannwhitneyu"
   ]
  },
  {
   "cell_type": "code",
   "execution_count": 22,
   "metadata": {},
   "outputs": [],
   "source": [
    "grupo1=df[df.Forceps==1.0]\n",
    "grupo2=df[df.Forceps==2.0]"
   ]
  },
  {
   "cell_type": "code",
   "execution_count": 24,
   "metadata": {},
   "outputs": [
    {
     "name": "stdout",
     "output_type": "stream",
     "text": [
      "\u001b[1;31mSignature:\u001b[0m\n",
      "\u001b[0mmannwhitneyu\u001b[0m\u001b[1;33m(\u001b[0m\u001b[1;33m\n",
      "\u001b[0m    \u001b[0mx\u001b[0m\u001b[1;33m,\u001b[0m\u001b[1;33m\n",
      "\u001b[0m    \u001b[0my\u001b[0m\u001b[1;33m,\u001b[0m\u001b[1;33m\n",
      "\u001b[0m    \u001b[0muse_continuity\u001b[0m\u001b[1;33m=\u001b[0m\u001b[1;32mTrue\u001b[0m\u001b[1;33m,\u001b[0m\u001b[1;33m\n",
      "\u001b[0m    \u001b[0malternative\u001b[0m\u001b[1;33m=\u001b[0m\u001b[1;34m'two-sided'\u001b[0m\u001b[1;33m,\u001b[0m\u001b[1;33m\n",
      "\u001b[0m    \u001b[0maxis\u001b[0m\u001b[1;33m=\u001b[0m\u001b[1;36m0\u001b[0m\u001b[1;33m,\u001b[0m\u001b[1;33m\n",
      "\u001b[0m    \u001b[0mmethod\u001b[0m\u001b[1;33m=\u001b[0m\u001b[1;34m'auto'\u001b[0m\u001b[1;33m,\u001b[0m\u001b[1;33m\n",
      "\u001b[0m\u001b[1;33m)\u001b[0m\u001b[1;33m\u001b[0m\u001b[1;33m\u001b[0m\u001b[0m\n",
      "\u001b[1;31mDocstring:\u001b[0m\n",
      "Perform the Mann-Whitney U rank test on two independent samples.\n",
      "\n",
      "The Mann-Whitney U test is a nonparametric test of the null hypothesis\n",
      "that the distribution underlying sample `x` is the same as the\n",
      "distribution underlying sample `y`. It is often used as a test of\n",
      "of difference in location between distributions.\n",
      "\n",
      "Parameters\n",
      "----------\n",
      "x, y : array-like\n",
      "    N-d arrays of samples. The arrays must be broadcastable except along\n",
      "    the dimension given by `axis`.\n",
      "use_continuity : bool, optional\n",
      "        Whether a continuity correction (1/2) should be applied.\n",
      "        Default is True when `method` is ``'asymptotic'``; has no effect\n",
      "        otherwise.\n",
      "alternative : {'two-sided', 'less', 'greater'}, optional\n",
      "    Defines the alternative hypothesis. Default is 'two-sided'.\n",
      "    Let *F(u)* and *G(u)* be the cumulative distribution functions of the\n",
      "    distributions underlying `x` and `y`, respectively. Then the following\n",
      "    alternative hypotheses are available:\n",
      "\n",
      "    * 'two-sided': the distributions are not equal, i.e. *F(u) ≠ G(u)* for\n",
      "      at least one *u*.\n",
      "    * 'less': the distribution underlying `x` is stochastically less\n",
      "      than the distribution underlying `y`, i.e. *F(u) > G(u)* for all *u*.\n",
      "    * 'greater': the distribution underlying `x` is stochastically greater\n",
      "      than the distribution underlying `y`, i.e. *F(u) < G(u)* for all *u*.\n",
      "\n",
      "    Under a more restrictive set of assumptions, the alternative hypotheses\n",
      "    can be expressed in terms of the locations of the distributions;\n",
      "    see [5] section 5.1.\n",
      "axis : int, optional\n",
      "    Axis along which to perform the test. Default is 0.\n",
      "method : {'auto', 'asymptotic', 'exact'}, optional\n",
      "    Selects the method used to calculate the *p*-value.\n",
      "    Default is 'auto'. The following options are available.\n",
      "\n",
      "    * ``'asymptotic'``: compares the standardized test statistic\n",
      "      against the normal distribution, correcting for ties.\n",
      "    * ``'exact'``: computes the exact *p*-value by comparing the observed\n",
      "      :math:`U` statistic against the exact distribution of the :math:`U`\n",
      "      statistic under the null hypothesis. No correction is made for ties.\n",
      "    * ``'auto'``: chooses ``'exact'`` when the size of one of the samples\n",
      "      is less than 8 and there are no ties; chooses ``'asymptotic'``\n",
      "      otherwise.\n",
      "\n",
      "Returns\n",
      "-------\n",
      "res : MannwhitneyuResult\n",
      "    An object containing attributes:\n",
      "\n",
      "    statistic : float\n",
      "        The Mann-Whitney U statistic corresponding with sample `x`. See\n",
      "        Notes for the test statistic corresponding with sample `y`.\n",
      "    pvalue : float\n",
      "        The associated *p*-value for the chosen `alternative`.\n",
      "\n",
      "Notes\n",
      "-----\n",
      "If ``U1`` is the statistic corresponding with sample `x`, then the\n",
      "statistic corresponding with sample `y` is\n",
      "`U2 = `x.shape[axis] * y.shape[axis] - U1``.\n",
      "\n",
      "`mannwhitneyu` is for independent samples. For related / paired samples,\n",
      "consider `scipy.stats.wilcoxon`.\n",
      "\n",
      "`method` ``'exact'`` is recommended when there are no ties and when either\n",
      "sample size is less than 8 [1]_. The implementation follows the recurrence\n",
      "relation originally proposed in [1]_ as it is described in [3]_.\n",
      "Note that the exact method is *not* corrected for ties, but\n",
      "`mannwhitneyu` will not raise errors or warnings if there are ties in the\n",
      "data.\n",
      "\n",
      "The Mann-Whitney U test is a non-parametric version of the t-test for\n",
      "independent samples. When the the means of samples from the populations\n",
      "are normally distributed, consider `scipy.stats.ttest_ind`.\n",
      "\n",
      "See Also\n",
      "--------\n",
      "scipy.stats.wilcoxon, scipy.stats.ranksums, scipy.stats.ttest_ind\n",
      "\n",
      "References\n",
      "----------\n",
      ".. [1] H.B. Mann and D.R. Whitney, \"On a test of whether one of two random\n",
      "       variables is stochastically larger than the other\", The Annals of\n",
      "       Mathematical Statistics, Vol. 18, pp. 50-60, 1947.\n",
      ".. [2] Mann-Whitney U Test, Wikipedia,\n",
      "       http://en.wikipedia.org/wiki/Mann-Whitney_U_test\n",
      ".. [3] A. Di Bucchianico, \"Combinatorics, computer algebra, and the\n",
      "       Wilcoxon-Mann-Whitney test\", Journal of Statistical Planning and\n",
      "       Inference, Vol. 79, pp. 349-364, 1999.\n",
      ".. [4] Rosie Shier, \"Statistics: 2.3 The Mann-Whitney U Test\", Mathematics\n",
      "       Learning Support Centre, 2004.\n",
      ".. [5] Michael P. Fay and Michael A. Proschan. \"Wilcoxon-Mann-Whitney\n",
      "       or t-test? On assumptions for hypothesis tests and multiple \\\n",
      "       interpretations of decision rules.\" Statistics surveys, Vol. 4, pp.\n",
      "       1-39, 2010. https://www.ncbi.nlm.nih.gov/pmc/articles/PMC2857732/\n",
      "\n",
      "Examples\n",
      "--------\n",
      "We follow the example from [4]_: nine randomly sampled young adults were\n",
      "diagnosed with type II diabetes at the ages below.\n",
      "\n",
      ">>> males = [19, 22, 16, 29, 24]\n",
      ">>> females = [20, 11, 17, 12]\n",
      "\n",
      "We use the Mann-Whitney U test to assess whether there is a statistically\n",
      "significant difference in the diagnosis age of males and females.\n",
      "The null hypothesis is that the distribution of male diagnosis ages is\n",
      "the same as the distribution of female diagnosis ages. We decide\n",
      "that a confidence level of 95% is required to reject the null hypothesis\n",
      "in favor of the alternative that that the distributions are different.\n",
      "Since the number of samples is very small and there are no ties in the\n",
      "data, we can compare the observed test statistic against the *exact*\n",
      "distribution of the test statistic under the null hypothesis.\n",
      "\n",
      ">>> from scipy.stats import mannwhitneyu\n",
      ">>> U1, p = mannwhitneyu(males, females, method=\"exact\")\n",
      ">>> print(U1)\n",
      "17.0\n",
      "\n",
      "`mannwhitneyu` always reports the statistic associated with the first\n",
      "sample, which, in this case, is males. This agrees with :math:`U_M = 17`\n",
      "reported in [4]_. The statistic associated with the second statistic\n",
      "can be calculated:\n",
      "\n",
      ">>> nx, ny = len(males), len(females)\n",
      ">>> U2 = nx*ny - U1\n",
      ">>> print(U2)\n",
      "3.0\n",
      "\n",
      "This agrees with :math:`U_F = 3` reported in [4]_. The two-sided\n",
      "*p*-value can be calculated from either statistic, and the value produced\n",
      "by `mannwhitneyu` agrees with :math:`p = 0.11` reported in [4]_.\n",
      "\n",
      ">>> print(p)\n",
      "0.1111111111111111\n",
      "\n",
      "The exact distribution of the test statistic is asymptotically normal, so\n",
      "the example continues by comparing the exact *p*-value against the\n",
      "*p*-value produced using the normal approximation.\n",
      "\n",
      ">>> _, pnorm = mannwhitneyu(males, females, method=\"asymptotic\")\n",
      ">>> print(pnorm)\n",
      "0.11134688653314041\n",
      "\n",
      "Here `mannwhitneyu`'s reported *p*-value appears to conflict with the\n",
      "value :math:`p = 0.09` given in [4]_. The reason is that [4]_\n",
      "does not apply the continuity correction performed by `mannwhitneyu`;\n",
      "`mannwhitneyu` reduces the distance between the test statistic and the\n",
      "mean :math:`\\mu = n_x n_y / 2` by 0.5 to correct for the fact that the\n",
      "discrete statistic is being compared against a continuous distribution.\n",
      "Here, the :math:`U` statistic used is less than the mean, so we reduce\n",
      "the distance by adding 0.5 in the numerator.\n",
      "\n",
      ">>> import numpy as np\n",
      ">>> from scipy.stats import norm\n",
      ">>> U = min(U1, U2)\n",
      ">>> N = nx + ny\n",
      ">>> z = (U - nx*ny/2 + 0.5) / np.sqrt(nx*ny * (N + 1)/ 12)\n",
      ">>> p = 2 * norm.cdf(z)  # use CDF to get p-value from smaller statistic\n",
      ">>> print(p)\n",
      "0.11134688653314041\n",
      "\n",
      "If desired, we can disable the continuity correction to get a result\n",
      "that agrees with that reported in [4]_.\n",
      "\n",
      ">>> _, pnorm = mannwhitneyu(males, females, use_continuity=False,\n",
      "...                         method=\"asymptotic\")\n",
      ">>> print(pnorm)\n",
      "0.0864107329737\n",
      "\n",
      "Regardless of whether we perform an exact or asymptotic test, the\n",
      "probability of the test statistic being as extreme or more extreme by\n",
      "chance exceeds 5%, so we do not consider the results statistically\n",
      "significant.\n",
      "\n",
      "Suppose that, before seeing the data, we had hypothesized that females\n",
      "would tend to be diagnosed at a younger age than males.\n",
      "In that case, it would be natural to provide the female ages as the\n",
      "first input, and we would have performed a one-sided test using\n",
      "``alternative = 'less'``: females are diagnosed at an age that is\n",
      "stochastically less than that of males.\n",
      "\n",
      ">>> res = mannwhitneyu(females, males, alternative=\"less\", method=\"exact\")\n",
      ">>> print(res)\n",
      "MannwhitneyuResult(statistic=3.0, pvalue=0.05555555555555555)\n",
      "\n",
      "Again, the probability of getting a sufficiently low value of the\n",
      "test statistic by chance under the null hypothesis is greater than 5%,\n",
      "so we do not reject the null hypothesis in favor of our alternative.\n",
      "\n",
      "If it is reasonable to assume that the means of samples from the\n",
      "populations are normally distributed, we could have used a t-test to\n",
      "perform the analysis.\n",
      "\n",
      ">>> from scipy.stats import ttest_ind\n",
      ">>> res = ttest_ind(females, males, alternative=\"less\")\n",
      ">>> print(res)\n",
      "Ttest_indResult(statistic=-2.239334696520584, pvalue=0.030068441095757924)\n",
      "\n",
      "Under this assumption, the *p*-value would be low enough to reject the\n",
      "null hypothesis in favor of the alternative.\n",
      "\u001b[1;31mFile:\u001b[0m      c:\\users\\daniel montes\\anaconda3\\lib\\site-packages\\scipy\\stats\\_mannwhitneyu.py\n",
      "\u001b[1;31mType:\u001b[0m      function\n"
     ]
    }
   ],
   "source": [
    "mannwhitneyu?"
   ]
  },
  {
   "cell_type": "code",
   "execution_count": 25,
   "metadata": {},
   "outputs": [
    {
     "data": {
      "text/plain": [
       "MannwhitneyuResult(statistic=25.0, pvalue=0.031078184058262962)"
      ]
     },
     "execution_count": 25,
     "metadata": {},
     "output_type": "execute_result"
    }
   ],
   "source": [
    "mannwhitneyu(grupo1.Resection,grupo2.Resection)"
   ]
  },
  {
   "cell_type": "code",
   "execution_count": 26,
   "metadata": {},
   "outputs": [
    {
     "data": {
      "text/plain": [
       "array([2., 1., 3.])"
      ]
     },
     "execution_count": 26,
     "metadata": {},
     "output_type": "execute_result"
    }
   ],
   "source": [
    "grupo1.Resection.unique()"
   ]
  },
  {
   "cell_type": "markdown",
   "metadata": {},
   "source": [
    "$$ H_0: \\mu_1 \\geq \\mu_2$$ \n",
    "$$ H_1: \\mu_1 < \\mu_2$$"
   ]
  },
  {
   "cell_type": "code",
   "execution_count": 27,
   "metadata": {},
   "outputs": [
    {
     "data": {
      "text/plain": [
       "MannwhitneyuResult(statistic=25.0, pvalue=0.015539092029131481)"
      ]
     },
     "execution_count": 27,
     "metadata": {},
     "output_type": "execute_result"
    }
   ],
   "source": [
    "mannwhitneyu(grupo1.Resection,grupo2.Resection,alternative=\"less\")"
   ]
  },
  {
   "cell_type": "markdown",
   "metadata": {},
   "source": [
    "Utilizad el fichero de salarios para ver que grupo tiene mayor sueldo"
   ]
  },
  {
   "cell_type": "code",
   "execution_count": 28,
   "metadata": {},
   "outputs": [],
   "source": [
    "### Como detectar si sigue una distribución normal\n",
    "## Manera gráfica\n",
    "import statsmodels.api as sm"
   ]
  },
  {
   "cell_type": "code",
   "execution_count": 29,
   "metadata": {},
   "outputs": [
    {
     "data": {
      "text/html": [
       "<div>\n",
       "<style scoped>\n",
       "    .dataframe tbody tr th:only-of-type {\n",
       "        vertical-align: middle;\n",
       "    }\n",
       "\n",
       "    .dataframe tbody tr th {\n",
       "        vertical-align: top;\n",
       "    }\n",
       "\n",
       "    .dataframe thead th {\n",
       "        text-align: right;\n",
       "    }\n",
       "</style>\n",
       "<table border=\"1\" class=\"dataframe\">\n",
       "  <thead>\n",
       "    <tr style=\"text-align: right;\">\n",
       "      <th></th>\n",
       "      <th>Forceps</th>\n",
       "      <th>Resection</th>\n",
       "    </tr>\n",
       "  </thead>\n",
       "  <tbody>\n",
       "    <tr>\n",
       "      <th>0</th>\n",
       "      <td>2.0</td>\n",
       "      <td>2.0</td>\n",
       "    </tr>\n",
       "  </tbody>\n",
       "</table>\n",
       "</div>"
      ],
      "text/plain": [
       "   Forceps  Resection\n",
       "0      2.0        2.0"
      ]
     },
     "execution_count": 29,
     "metadata": {},
     "output_type": "execute_result"
    }
   ],
   "source": [
    "df.head(1)"
   ]
  },
  {
   "cell_type": "code",
   "execution_count": 31,
   "metadata": {},
   "outputs": [
    {
     "data": {
      "image/png": "[encoded data removed]",
      "text/plain": [
       "<Figure size 432x288 with 1 Axes>"
      ]
     },
     "metadata": {
      "needs_background": "light"
     },
     "output_type": "display_data"
    }
   ],
   "source": [
    "sm.qqplot(df[\"Resection\"],fit=True,line='q');"
   ]
  },
  {
   "cell_type": "code",
   "execution_count": 32,
   "metadata": {},
   "outputs": [],
   "source": [
    "salarios=pd.read_csv(\"./Datos/homogeneidad2grupos.csv\")"
   ]
  },
  {
   "cell_type": "code",
   "execution_count": 33,
   "metadata": {},
   "outputs": [
    {
     "data": {
      "image/png": "[encoded data removed]",
      "text/plain": [
       "<Figure size 432x288 with 1 Axes>"
      ]
     },
     "metadata": {
      "needs_background": "light"
     },
     "output_type": "display_data"
    }
   ],
   "source": [
    "sm.qqplot(salarios[\"salary\"],fit=True,line='q');"
   ]
  },
  {
   "cell_type": "code",
   "execution_count": 34,
   "metadata": {},
   "outputs": [],
   "source": [
    "salarios=pd.read_csv(\"./Datos/homogeneidad3grupos.csv\")"
   ]
  },
  {
   "cell_type": "code",
   "execution_count": 35,
   "metadata": {},
   "outputs": [
    {
     "data": {
      "image/png": "[encoded data removed]",
      "text/plain": [
       "<Figure size 432x288 with 1 Axes>"
      ]
     },
     "metadata": {
      "needs_background": "light"
     },
     "output_type": "display_data"
    }
   ],
   "source": [
    "sm.qqplot(salarios[\"salary\"],fit=True,line='q');"
   ]
  },
  {
   "cell_type": "code",
   "execution_count": 36,
   "metadata": {},
   "outputs": [],
   "source": [
    "from scipy.stats import normaltest"
   ]
  },
  {
   "cell_type": "code",
   "execution_count": 37,
   "metadata": {},
   "outputs": [
    {
     "data": {
      "text/plain": [
       "NormaltestResult(statistic=4.784100989354664, pvalue=0.0914419901966388)"
      ]
     },
     "execution_count": 37,
     "metadata": {},
     "output_type": "execute_result"
    }
   ],
   "source": [
    "normaltest(salarios[\"salary\"])"
   ]
  },
  {
   "cell_type": "code",
   "execution_count": 38,
   "metadata": {},
   "outputs": [
    {
     "name": "stdout",
     "output_type": "stream",
     "text": [
      "\u001b[1;31mSignature:\u001b[0m \u001b[0mnormaltest\u001b[0m\u001b[1;33m(\u001b[0m\u001b[0ma\u001b[0m\u001b[1;33m,\u001b[0m \u001b[0maxis\u001b[0m\u001b[1;33m=\u001b[0m\u001b[1;36m0\u001b[0m\u001b[1;33m,\u001b[0m \u001b[0mnan_policy\u001b[0m\u001b[1;33m=\u001b[0m\u001b[1;34m'propagate'\u001b[0m\u001b[1;33m)\u001b[0m\u001b[1;33m\u001b[0m\u001b[1;33m\u001b[0m\u001b[0m\n",
      "\u001b[1;31mDocstring:\u001b[0m\n",
      "Test whether a sample differs from a normal distribution.\n",
      "\n",
      "This function tests the null hypothesis that a sample comes\n",
      "from a normal distribution.  It is based on D'Agostino and\n",
      "Pearson's [1]_, [2]_ test that combines skew and kurtosis to\n",
      "produce an omnibus test of normality.\n",
      "\n",
      "Parameters\n",
      "----------\n",
      "a : array_like\n",
      "    The array containing the sample to be tested.\n",
      "axis : int or None, optional\n",
      "    Axis along which to compute test. Default is 0. If None,\n",
      "    compute over the whole array `a`.\n",
      "nan_policy : {'propagate', 'raise', 'omit'}, optional\n",
      "    Defines how to handle when input contains nan.\n",
      "    The following options are available (default is 'propagate'):\n",
      "\n",
      "      * 'propagate': returns nan\n",
      "      * 'raise': throws an error\n",
      "      * 'omit': performs the calculations ignoring nan values\n",
      "\n",
      "Returns\n",
      "-------\n",
      "statistic : float or array\n",
      "    ``s^2 + k^2``, where ``s`` is the z-score returned by `skewtest` and\n",
      "    ``k`` is the z-score returned by `kurtosistest`.\n",
      "pvalue : float or array\n",
      "   A 2-sided chi squared probability for the hypothesis test.\n",
      "\n",
      "References\n",
      "----------\n",
      ".. [1] D'Agostino, R. B. (1971), \"An omnibus test of normality for\n",
      "       moderate and large sample size\", Biometrika, 58, 341-348\n",
      "\n",
      ".. [2] D'Agostino, R. and Pearson, E. S. (1973), \"Tests for departure from\n",
      "       normality\", Biometrika, 60, 613-622\n",
      "\n",
      "Examples\n",
      "--------\n",
      ">>> from scipy import stats\n",
      ">>> rng = np.random.default_rng()\n",
      ">>> pts = 1000\n",
      ">>> a = rng.normal(0, 1, size=pts)\n",
      ">>> b = rng.normal(2, 1, size=pts)\n",
      ">>> x = np.concatenate((a, b))\n",
      ">>> k2, p = stats.normaltest(x)\n",
      ">>> alpha = 1e-3\n",
      ">>> print(\"p = {:g}\".format(p))\n",
      "p = 8.4713e-19\n",
      ">>> if p < alpha:  # null hypothesis: x comes from a normal distribution\n",
      "...     print(\"The null hypothesis can be rejected\")\n",
      "... else:\n",
      "...     print(\"The null hypothesis cannot be rejected\")\n",
      "The null hypothesis can be rejected\n",
      "\u001b[1;31mFile:\u001b[0m      c:\\users\\daniel montes\\anaconda3\\lib\\site-packages\\scipy\\stats\\stats.py\n",
      "\u001b[1;31mType:\u001b[0m      function\n"
     ]
    }
   ],
   "source": [
    "normaltest?"
   ]
  },
  {
   "cell_type": "code",
   "execution_count": 39,
   "metadata": {},
   "outputs": [],
   "source": [
    "from scipy.stats import anderson"
   ]
  },
  {
   "cell_type": "code",
   "execution_count": 42,
   "metadata": {},
   "outputs": [
    {
     "data": {
      "text/plain": [
       "AndersonResult(statistic=1.4826925318996942, critical_values=array([0.517, 0.589, 0.707, 0.824, 0.98 ]), significance_level=array([15. , 10. ,  5. ,  2.5,  1. ]))"
      ]
     },
     "execution_count": 42,
     "metadata": {},
     "output_type": "execute_result"
    }
   ],
   "source": [
    "anderson(salarios.salary)"
   ]
  },
  {
   "cell_type": "code",
   "execution_count": 43,
   "metadata": {},
   "outputs": [],
   "source": [
    "from scipy.stats import shapiro"
   ]
  },
  {
   "cell_type": "code",
   "execution_count": 44,
   "metadata": {},
   "outputs": [
    {
     "data": {
      "text/plain": [
       "ShapiroResult(statistic=0.8655544519424438, pvalue=0.0023778295144438744)"
      ]
     },
     "execution_count": 44,
     "metadata": {},
     "output_type": "execute_result"
    }
   ],
   "source": [
    "shapiro(salarios.salary)"
   ]
  },
  {
   "cell_type": "markdown",
   "metadata": {},
   "source": [
    "## Krustall Wallis\n",
    "Se realzia un estudio sobre drogas en el que se compara clasificaciomnes de dolor.\n",
    "Se suministran cuatro grupos de dosis:\n",
    "* valor1 100 mg\n",
    "* valor2 250 mg\n",
    "* valor3 500 mg\n",
    "* valor4 1000 mg\n"
   ]
  },
  {
   "cell_type": "code",
   "execution_count": 45,
   "metadata": {},
   "outputs": [],
   "source": [
    "drogas=pd.read_csv('./Datos/drugstudy.csv')"
   ]
  },
  {
   "cell_type": "code",
   "execution_count": 46,
   "metadata": {},
   "outputs": [
    {
     "name": "stdout",
     "output_type": "stream",
     "text": [
      "<class 'pandas.core.frame.DataFrame'>\n",
      "RangeIndex: 38 entries, 0 to 37\n",
      "Data columns (total 2 columns):\n",
      " #   Column  Non-Null Count  Dtype  \n",
      "---  ------  --------------  -----  \n",
      " 0   dose    38 non-null     float64\n",
      " 1   rating  38 non-null     float64\n",
      "dtypes: float64(2)\n",
      "memory usage: 736.0 bytes\n"
     ]
    }
   ],
   "source": [
    "drogas.info()"
   ]
  },
  {
   "cell_type": "code",
   "execution_count": 47,
   "metadata": {},
   "outputs": [
    {
     "data": {
      "text/html": [
       "<div>\n",
       "<style scoped>\n",
       "    .dataframe tbody tr th:only-of-type {\n",
       "        vertical-align: middle;\n",
       "    }\n",
       "\n",
       "    .dataframe tbody tr th {\n",
       "        vertical-align: top;\n",
       "    }\n",
       "\n",
       "    .dataframe thead th {\n",
       "        text-align: right;\n",
       "    }\n",
       "</style>\n",
       "<table border=\"1\" class=\"dataframe\">\n",
       "  <thead>\n",
       "    <tr style=\"text-align: right;\">\n",
       "      <th></th>\n",
       "      <th>count</th>\n",
       "      <th>mean</th>\n",
       "      <th>std</th>\n",
       "      <th>min</th>\n",
       "      <th>25%</th>\n",
       "      <th>50%</th>\n",
       "      <th>75%</th>\n",
       "      <th>max</th>\n",
       "    </tr>\n",
       "  </thead>\n",
       "  <tbody>\n",
       "    <tr>\n",
       "      <th>dose</th>\n",
       "      <td>38.0</td>\n",
       "      <td>2.394737</td>\n",
       "      <td>1.128009</td>\n",
       "      <td>1.0</td>\n",
       "      <td>1.0</td>\n",
       "      <td>2.0</td>\n",
       "      <td>3.0</td>\n",
       "      <td>4.0</td>\n",
       "    </tr>\n",
       "    <tr>\n",
       "      <th>rating</th>\n",
       "      <td>38.0</td>\n",
       "      <td>3.394737</td>\n",
       "      <td>1.586079</td>\n",
       "      <td>1.0</td>\n",
       "      <td>2.0</td>\n",
       "      <td>3.0</td>\n",
       "      <td>4.0</td>\n",
       "      <td>7.0</td>\n",
       "    </tr>\n",
       "  </tbody>\n",
       "</table>\n",
       "</div>"
      ],
      "text/plain": [
       "        count      mean       std  min  25%  50%  75%  max\n",
       "dose     38.0  2.394737  1.128009  1.0  1.0  2.0  3.0  4.0\n",
       "rating   38.0  3.394737  1.586079  1.0  2.0  3.0  4.0  7.0"
      ]
     },
     "execution_count": 47,
     "metadata": {},
     "output_type": "execute_result"
    }
   ],
   "source": [
    "drogas.describe().T"
   ]
  },
  {
   "cell_type": "code",
   "execution_count": 49,
   "metadata": {},
   "outputs": [
    {
     "data": {
      "text/html": [
       "<div>\n",
       "<style scoped>\n",
       "    .dataframe tbody tr th:only-of-type {\n",
       "        vertical-align: middle;\n",
       "    }\n",
       "\n",
       "    .dataframe tbody tr th {\n",
       "        vertical-align: top;\n",
       "    }\n",
       "\n",
       "    .dataframe thead th {\n",
       "        text-align: right;\n",
       "    }\n",
       "</style>\n",
       "<table border=\"1\" class=\"dataframe\">\n",
       "  <thead>\n",
       "    <tr style=\"text-align: right;\">\n",
       "      <th></th>\n",
       "      <th>count</th>\n",
       "      <th>mean</th>\n",
       "      <th>std</th>\n",
       "      <th>min</th>\n",
       "      <th>25%</th>\n",
       "      <th>50%</th>\n",
       "      <th>75%</th>\n",
       "      <th>max</th>\n",
       "    </tr>\n",
       "  </thead>\n",
       "  <tbody>\n",
       "    <tr>\n",
       "      <th>dose</th>\n",
       "      <td>38.0</td>\n",
       "      <td>2.394737</td>\n",
       "      <td>1.128009</td>\n",
       "      <td>1.0</td>\n",
       "      <td>1.0</td>\n",
       "      <td>2.0</td>\n",
       "      <td>3.0</td>\n",
       "      <td>4.0</td>\n",
       "    </tr>\n",
       "    <tr>\n",
       "      <th>rating</th>\n",
       "      <td>38.0</td>\n",
       "      <td>3.394737</td>\n",
       "      <td>1.586079</td>\n",
       "      <td>1.0</td>\n",
       "      <td>2.0</td>\n",
       "      <td>3.0</td>\n",
       "      <td>4.0</td>\n",
       "      <td>7.0</td>\n",
       "    </tr>\n",
       "  </tbody>\n",
       "</table>\n",
       "</div>"
      ],
      "text/plain": [
       "        count      mean       std  min  25%  50%  75%  max\n",
       "dose     38.0  2.394737  1.128009  1.0  1.0  2.0  3.0  4.0\n",
       "rating   38.0  3.394737  1.586079  1.0  2.0  3.0  4.0  7.0"
      ]
     },
     "execution_count": 49,
     "metadata": {},
     "output_type": "execute_result"
    }
   ],
   "source": [
    "drogas.describe(include=\"all\").T"
   ]
  },
  {
   "cell_type": "code",
   "execution_count": 51,
   "metadata": {},
   "outputs": [
    {
     "data": {
      "text/plain": [
       "1.0    0.289474\n",
       "3.0    0.263158\n",
       "2.0    0.236842\n",
       "4.0    0.210526\n",
       "Name: dose, dtype: float64"
      ]
     },
     "execution_count": 51,
     "metadata": {},
     "output_type": "execute_result"
    }
   ],
   "source": [
    "drogas.dose.value_counts(normalize=True)"
   ]
  },
  {
   "cell_type": "code",
   "execution_count": 52,
   "metadata": {},
   "outputs": [],
   "source": [
    "grupo1=drogas[drogas.dose==1]\n",
    "grupo2=drogas[drogas.dose==2]\n",
    "grupo3=drogas[drogas.dose==3]\n",
    "grupo4=drogas[drogas.dose==4]"
   ]
  },
  {
   "cell_type": "code",
   "execution_count": 53,
   "metadata": {},
   "outputs": [
    {
     "data": {
      "text/html": [
       "<div>\n",
       "<style scoped>\n",
       "    .dataframe tbody tr th:only-of-type {\n",
       "        vertical-align: middle;\n",
       "    }\n",
       "\n",
       "    .dataframe tbody tr th {\n",
       "        vertical-align: top;\n",
       "    }\n",
       "\n",
       "    .dataframe thead th {\n",
       "        text-align: right;\n",
       "    }\n",
       "</style>\n",
       "<table border=\"1\" class=\"dataframe\">\n",
       "  <thead>\n",
       "    <tr style=\"text-align: right;\">\n",
       "      <th></th>\n",
       "      <th>rating</th>\n",
       "    </tr>\n",
       "    <tr>\n",
       "      <th>dose</th>\n",
       "      <th></th>\n",
       "    </tr>\n",
       "  </thead>\n",
       "  <tbody>\n",
       "    <tr>\n",
       "      <th>1.0</th>\n",
       "      <td>5.090909</td>\n",
       "    </tr>\n",
       "    <tr>\n",
       "      <th>2.0</th>\n",
       "      <td>3.333333</td>\n",
       "    </tr>\n",
       "    <tr>\n",
       "      <th>3.0</th>\n",
       "      <td>2.400000</td>\n",
       "    </tr>\n",
       "    <tr>\n",
       "      <th>4.0</th>\n",
       "      <td>2.375000</td>\n",
       "    </tr>\n",
       "  </tbody>\n",
       "</table>\n",
       "</div>"
      ],
      "text/plain": [
       "        rating\n",
       "dose          \n",
       "1.0   5.090909\n",
       "2.0   3.333333\n",
       "3.0   2.400000\n",
       "4.0   2.375000"
      ]
     },
     "execution_count": 53,
     "metadata": {},
     "output_type": "execute_result"
    }
   ],
   "source": [
    "drogas.groupby([\"dose\"]).mean()"
   ]
  },
  {
   "cell_type": "code",
   "execution_count": 54,
   "metadata": {},
   "outputs": [],
   "source": [
    "from scipy.stats import kruskal"
   ]
  },
  {
   "cell_type": "code",
   "execution_count": 55,
   "metadata": {},
   "outputs": [
    {
     "name": "stdout",
     "output_type": "stream",
     "text": [
      "\u001b[1;31mSignature:\u001b[0m \u001b[0mkruskal\u001b[0m\u001b[1;33m(\u001b[0m\u001b[1;33m*\u001b[0m\u001b[0margs\u001b[0m\u001b[1;33m,\u001b[0m \u001b[0mnan_policy\u001b[0m\u001b[1;33m=\u001b[0m\u001b[1;34m'propagate'\u001b[0m\u001b[1;33m)\u001b[0m\u001b[1;33m\u001b[0m\u001b[1;33m\u001b[0m\u001b[0m\n",
      "\u001b[1;31mDocstring:\u001b[0m\n",
      "Compute the Kruskal-Wallis H-test for independent samples.\n",
      "\n",
      "The Kruskal-Wallis H-test tests the null hypothesis that the population\n",
      "median of all of the groups are equal.  It is a non-parametric version of\n",
      "ANOVA.  The test works on 2 or more independent samples, which may have\n",
      "different sizes.  Note that rejecting the null hypothesis does not\n",
      "indicate which of the groups differs.  Post hoc comparisons between\n",
      "groups are required to determine which groups are different.\n",
      "\n",
      "Parameters\n",
      "----------\n",
      "sample1, sample2, ... : array_like\n",
      "   Two or more arrays with the sample measurements can be given as\n",
      "   arguments. Samples must be one-dimensional.\n",
      "nan_policy : {'propagate', 'raise', 'omit'}, optional\n",
      "    Defines how to handle when input contains nan.\n",
      "    The following options are available (default is 'propagate'):\n",
      "\n",
      "      * 'propagate': returns nan\n",
      "      * 'raise': throws an error\n",
      "      * 'omit': performs the calculations ignoring nan values\n",
      "\n",
      "Returns\n",
      "-------\n",
      "statistic : float\n",
      "   The Kruskal-Wallis H statistic, corrected for ties.\n",
      "pvalue : float\n",
      "   The p-value for the test using the assumption that H has a chi\n",
      "   square distribution. The p-value returned is the survival function of\n",
      "   the chi square distribution evaluated at H.\n",
      "\n",
      "See Also\n",
      "--------\n",
      "f_oneway : 1-way ANOVA.\n",
      "mannwhitneyu : Mann-Whitney rank test on two samples.\n",
      "friedmanchisquare : Friedman test for repeated measurements.\n",
      "\n",
      "Notes\n",
      "-----\n",
      "Due to the assumption that H has a chi square distribution, the number\n",
      "of samples in each group must not be too small.  A typical rule is\n",
      "that each sample must have at least 5 measurements.\n",
      "\n",
      "References\n",
      "----------\n",
      ".. [1] W. H. Kruskal & W. W. Wallis, \"Use of Ranks in\n",
      "   One-Criterion Variance Analysis\", Journal of the American Statistical\n",
      "   Association, Vol. 47, Issue 260, pp. 583-621, 1952.\n",
      ".. [2] https://en.wikipedia.org/wiki/Kruskal-Wallis_one-way_analysis_of_variance\n",
      "\n",
      "Examples\n",
      "--------\n",
      ">>> from scipy import stats\n",
      ">>> x = [1, 3, 5, 7, 9]\n",
      ">>> y = [2, 4, 6, 8, 10]\n",
      ">>> stats.kruskal(x, y)\n",
      "KruskalResult(statistic=0.2727272727272734, pvalue=0.6015081344405895)\n",
      "\n",
      ">>> x = [1, 1, 1]\n",
      ">>> y = [2, 2, 2]\n",
      ">>> z = [2, 2]\n",
      ">>> stats.kruskal(x, y, z)\n",
      "KruskalResult(statistic=7.0, pvalue=0.0301973834223185)\n",
      "\u001b[1;31mFile:\u001b[0m      c:\\users\\daniel montes\\anaconda3\\lib\\site-packages\\scipy\\stats\\stats.py\n",
      "\u001b[1;31mType:\u001b[0m      function\n"
     ]
    }
   ],
   "source": [
    "kruskal?"
   ]
  },
  {
   "cell_type": "code",
   "execution_count": 57,
   "metadata": {},
   "outputs": [
    {
     "data": {
      "text/plain": [
       "KruskalResult(statistic=19.40404659636354, pvalue=0.0002255349919216392)"
      ]
     },
     "execution_count": 57,
     "metadata": {},
     "output_type": "execute_result"
    }
   ],
   "source": [
    "kruskal(grupo1.rating,grupo2.rating,grupo3.rating,grupo4.rating)"
   ]
  },
  {
   "cell_type": "code",
   "execution_count": 61,
   "metadata": {},
   "outputs": [
    {
     "name": "stdout",
     "output_type": "stream",
     "text": [
      "Rechazamos H0\n"
     ]
    }
   ],
   "source": [
    "estadistico,pvalor=kruskal(grupo1.rating,grupo2.rating,grupo3.rating,grupo4.rating)\n",
    "if pvalor>0.05:\n",
    "    print(\"No rechazamos H0\")\n",
    "else:\n",
    "    print(\"Rechazamos H0\")"
   ]
  },
  {
   "cell_type": "markdown",
   "metadata": {},
   "source": [
    "$$ \\binom{4}{2} = \\cfrac{4!}{(2!(4-2)!)} = \\cfrac{4\\times 3}{2}$$"
   ]
  },
  {
   "cell_type": "code",
   "execution_count": 75,
   "metadata": {},
   "outputs": [
    {
     "name": "stdout",
     "output_type": "stream",
     "text": [
      "====================\n",
      "====================\n",
      "====================\n",
      "====================\n",
      "====================\n",
      "====================\n"
     ]
    }
   ],
   "source": [
    "Rechazados={}\n",
    "Aceptados={}\n",
    "s=0\n",
    "h=0\n",
    "for i in range(1,4):\n",
    "    for j in range(i+1,5):\n",
    "        grupo1=drogas[drogas.dose==i]\n",
    "        grupo2=drogas[drogas.dose==j]\n",
    "        stat, p = mannwhitneyu(grupo1.rating,grupo2.rating,alternative='two-sided')\n",
    "        print(\"=\"*20)\n",
    "        if p > 0.05:\n",
    "            s+=1\n",
    "            Aceptados[s]=[i,j]\n",
    "            # print('No rechazamos H0: No hay diferencias significativas entre los grupos {0} y {1}.'.format(i,j))\n",
    "        else:\n",
    "            h+=1\n",
    "\t        # print('Rechazamos H0: Hay diferencias significativas entre los grupos {0} y {1}.'.format(i,j))\n",
    "            Rechazados[h]=[i,j]"
   ]
  },
  {
   "cell_type": "code",
   "execution_count": 113,
   "metadata": {},
   "outputs": [],
   "source": [
    "Rechazados={}\n",
    "Aceptados={}\n",
    "s=0\n",
    "for i,j in [(x,y) for x in drogas.dose.unique() for y in drogas.dose.unique() if x<y]:\n",
    "    s+=1\n",
    "    stat, p = mannwhitneyu(drogas[drogas.dose==i].rating,drogas[drogas.dose==j].rating,alternative='two-sided')\n",
    "    if p > 0.05:\n",
    "        Aceptados[s]=[i,j]\n",
    "    else:\n",
    "        Rechazados[s]=[i,j]"
   ]
  },
  {
   "cell_type": "code",
   "execution_count": 112,
   "metadata": {},
   "outputs": [
    {
     "name": "stdout",
     "output_type": "stream",
     "text": [
      "(0, (1.0, 2.0))\n",
      "(1, (1.0, 3.0))\n",
      "(2, (1.0, 4.0))\n",
      "(3, (2.0, 3.0))\n",
      "(4, (2.0, 4.0))\n",
      "(5, (3.0, 4.0))\n"
     ]
    }
   ],
   "source": [
    "for x in enumerate([(x,y) for x in drogas.dose.unique() for y in drogas.dose.unique() if x<y]):\n",
    "    print(x)"
   ]
  },
  {
   "cell_type": "code",
   "execution_count": 108,
   "metadata": {},
   "outputs": [
    {
     "data": {
      "text/plain": [
       "{(1.0, 2.0): [1.0, 2.0], (1.0, 3.0): [1.0, 3.0], (1.0, 4.0): [1.0, 4.0]}"
      ]
     },
     "execution_count": 108,
     "metadata": {},
     "output_type": "execute_result"
    }
   ],
   "source": [
    "Rechazados"
   ]
  },
  {
   "cell_type": "code",
   "execution_count": 104,
   "metadata": {},
   "outputs": [
    {
     "data": {
      "text/plain": [
       "{5.0: [2.0, 3.0], 6.0: [2.0, 4.0], 7.0: [3.0, 4.0]}"
      ]
     },
     "execution_count": 104,
     "metadata": {},
     "output_type": "execute_result"
    }
   ],
   "source": [
    "Aceptados"
   ]
  },
  {
   "cell_type": "code",
   "execution_count": 106,
   "metadata": {},
   "outputs": [
    {
     "data": {
      "text/plain": [
       "{3.0: [1.0, 2.0],\n",
       " 4.0: [1.0, 3.0],\n",
       " 5.0: [2.0, 3.0],\n",
       " 6.0: [2.0, 4.0],\n",
       " 7.0: [3.0, 4.0]}"
      ]
     },
     "execution_count": 106,
     "metadata": {},
     "output_type": "execute_result"
    }
   ],
   "source": [
    "Rechazados|Aceptados"
   ]
  }
 ],
 "metadata": {
  "kernelspec": {
   "display_name": "base",
   "language": "python",
   "name": "python3"
  },
  "language_info": {
   "codemirror_mode": {
    "name": "ipython",
    "version": 3
   },
   "file_extension": ".py",
   "mimetype": "text/x-python",
   "name": "python",
   "nbconvert_exporter": "python",
   "pygments_lexer": "ipython3",
   "version": "3.9.12"
  },
  "orig_nbformat": 4
 },
 "nbformat": 4,
 "nbformat_minor": 2
}
