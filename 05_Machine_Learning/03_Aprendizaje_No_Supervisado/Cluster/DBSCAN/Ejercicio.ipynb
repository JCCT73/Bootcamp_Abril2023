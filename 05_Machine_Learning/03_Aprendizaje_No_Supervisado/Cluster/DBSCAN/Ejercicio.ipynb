{
 "cells": [
  {
   "cell_type": "markdown",
   "metadata": {},
   "source": [
    "# Ejericio Clustering\n",
    "El objetivo es implementar un modelo que agrupa las transacciones apropiadamente y encontrar los potenciales outliers, es decir, aquellas transacciones que son sospechosas de ser un fraude o un error. Para resolver este ejercicio correctamente hay que investigar, en vez de simplemente seguir a rajatabla lo enseñado en el curso.\n",
    "\n",
    "**Pistas:**\n",
    "\n",
    "- Hemos explicado un algoritmo de clustering que no solo asigna elementos a clusters válidos, sino que también clasifica elementos como valores extremos (outliers). \n"
   ]
  },
  {
   "cell_type": "code",
   "execution_count": 39,
   "metadata": {},
   "outputs": [],
   "source": [
    "import pandas as pd\n",
    "df=pd.read_csv(\"./Datos/CC General.csv\")"
   ]
  },
  {
   "cell_type": "markdown",
   "metadata": {},
   "source": [
    "### Solución"
   ]
  },
  {
   "cell_type": "code",
   "execution_count": 40,
   "metadata": {},
   "outputs": [
    {
     "data": {
      "text/html": [
       "<div>\n",
       "<style scoped>\n",
       "    .dataframe tbody tr th:only-of-type {\n",
       "        vertical-align: middle;\n",
       "    }\n",
       "\n",
       "    .dataframe tbody tr th {\n",
       "        vertical-align: top;\n",
       "    }\n",
       "\n",
       "    .dataframe thead th {\n",
       "        text-align: right;\n",
       "    }\n",
       "</style>\n",
       "<table border=\"1\" class=\"dataframe\">\n",
       "  <thead>\n",
       "    <tr style=\"text-align: right;\">\n",
       "      <th></th>\n",
       "      <th>CUST_ID</th>\n",
       "      <th>BALANCE</th>\n",
       "      <th>BALANCE_FREQUENCY</th>\n",
       "      <th>PURCHASES</th>\n",
       "      <th>ONEOFF_PURCHASES</th>\n",
       "      <th>INSTALLMENTS_PURCHASES</th>\n",
       "      <th>CASH_ADVANCE</th>\n",
       "      <th>PURCHASES_FREQUENCY</th>\n",
       "      <th>ONEOFF_PURCHASES_FREQUENCY</th>\n",
       "      <th>PURCHASES_INSTALLMENTS_FREQUENCY</th>\n",
       "      <th>CASH_ADVANCE_FREQUENCY</th>\n",
       "      <th>CASH_ADVANCE_TRX</th>\n",
       "      <th>PURCHASES_TRX</th>\n",
       "      <th>CREDIT_LIMIT</th>\n",
       "      <th>PAYMENTS</th>\n",
       "      <th>MINIMUM_PAYMENTS</th>\n",
       "      <th>PRC_FULL_PAYMENT</th>\n",
       "      <th>TENURE</th>\n",
       "    </tr>\n",
       "  </thead>\n",
       "  <tbody>\n",
       "    <tr>\n",
       "      <th>2042</th>\n",
       "      <td>C12105</td>\n",
       "      <td>1007.362008</td>\n",
       "      <td>1.0</td>\n",
       "      <td>469.92</td>\n",
       "      <td>0.00</td>\n",
       "      <td>469.92</td>\n",
       "      <td>0.000000</td>\n",
       "      <td>1.000000</td>\n",
       "      <td>0.000000</td>\n",
       "      <td>1.000000</td>\n",
       "      <td>0.000000</td>\n",
       "      <td>0</td>\n",
       "      <td>12</td>\n",
       "      <td>1000.0</td>\n",
       "      <td>716.423692</td>\n",
       "      <td>871.852779</td>\n",
       "      <td>0.000000</td>\n",
       "      <td>12</td>\n",
       "    </tr>\n",
       "    <tr>\n",
       "      <th>79</th>\n",
       "      <td>C10083</td>\n",
       "      <td>6593.820644</td>\n",
       "      <td>1.0</td>\n",
       "      <td>388.66</td>\n",
       "      <td>388.66</td>\n",
       "      <td>0.00</td>\n",
       "      <td>4621.934580</td>\n",
       "      <td>0.583333</td>\n",
       "      <td>0.583333</td>\n",
       "      <td>0.000000</td>\n",
       "      <td>0.416667</td>\n",
       "      <td>7</td>\n",
       "      <td>7</td>\n",
       "      <td>7000.0</td>\n",
       "      <td>1624.583114</td>\n",
       "      <td>2503.402340</td>\n",
       "      <td>0.000000</td>\n",
       "      <td>12</td>\n",
       "    </tr>\n",
       "    <tr>\n",
       "      <th>6450</th>\n",
       "      <td>C16627</td>\n",
       "      <td>218.280031</td>\n",
       "      <td>1.0</td>\n",
       "      <td>939.14</td>\n",
       "      <td>939.14</td>\n",
       "      <td>0.00</td>\n",
       "      <td>0.000000</td>\n",
       "      <td>0.727273</td>\n",
       "      <td>0.727273</td>\n",
       "      <td>0.000000</td>\n",
       "      <td>0.000000</td>\n",
       "      <td>0</td>\n",
       "      <td>8</td>\n",
       "      <td>5000.0</td>\n",
       "      <td>969.130835</td>\n",
       "      <td>168.333790</td>\n",
       "      <td>0.000000</td>\n",
       "      <td>11</td>\n",
       "    </tr>\n",
       "    <tr>\n",
       "      <th>4445</th>\n",
       "      <td>C14569</td>\n",
       "      <td>1689.238956</td>\n",
       "      <td>1.0</td>\n",
       "      <td>261.89</td>\n",
       "      <td>139.19</td>\n",
       "      <td>122.70</td>\n",
       "      <td>0.000000</td>\n",
       "      <td>0.416667</td>\n",
       "      <td>0.083333</td>\n",
       "      <td>0.333333</td>\n",
       "      <td>0.000000</td>\n",
       "      <td>0</td>\n",
       "      <td>7</td>\n",
       "      <td>1700.0</td>\n",
       "      <td>309.348573</td>\n",
       "      <td>1196.937133</td>\n",
       "      <td>0.000000</td>\n",
       "      <td>12</td>\n",
       "    </tr>\n",
       "    <tr>\n",
       "      <th>4396</th>\n",
       "      <td>C14519</td>\n",
       "      <td>7677.565407</td>\n",
       "      <td>1.0</td>\n",
       "      <td>1240.04</td>\n",
       "      <td>1240.04</td>\n",
       "      <td>0.00</td>\n",
       "      <td>3681.231518</td>\n",
       "      <td>0.750000</td>\n",
       "      <td>0.750000</td>\n",
       "      <td>0.000000</td>\n",
       "      <td>0.333333</td>\n",
       "      <td>4</td>\n",
       "      <td>20</td>\n",
       "      <td>8000.0</td>\n",
       "      <td>2724.967965</td>\n",
       "      <td>2726.278972</td>\n",
       "      <td>0.000000</td>\n",
       "      <td>12</td>\n",
       "    </tr>\n",
       "    <tr>\n",
       "      <th>2676</th>\n",
       "      <td>C12753</td>\n",
       "      <td>1565.577135</td>\n",
       "      <td>1.0</td>\n",
       "      <td>0.00</td>\n",
       "      <td>0.00</td>\n",
       "      <td>0.00</td>\n",
       "      <td>2676.476175</td>\n",
       "      <td>0.000000</td>\n",
       "      <td>0.000000</td>\n",
       "      <td>0.000000</td>\n",
       "      <td>0.333333</td>\n",
       "      <td>6</td>\n",
       "      <td>0</td>\n",
       "      <td>3000.0</td>\n",
       "      <td>3418.679368</td>\n",
       "      <td>477.674801</td>\n",
       "      <td>0.090909</td>\n",
       "      <td>12</td>\n",
       "    </tr>\n",
       "    <tr>\n",
       "      <th>2746</th>\n",
       "      <td>C12825</td>\n",
       "      <td>4202.169500</td>\n",
       "      <td>1.0</td>\n",
       "      <td>462.00</td>\n",
       "      <td>462.00</td>\n",
       "      <td>0.00</td>\n",
       "      <td>4776.104770</td>\n",
       "      <td>0.166667</td>\n",
       "      <td>0.166667</td>\n",
       "      <td>0.000000</td>\n",
       "      <td>0.416667</td>\n",
       "      <td>10</td>\n",
       "      <td>2</td>\n",
       "      <td>8000.0</td>\n",
       "      <td>1010.799168</td>\n",
       "      <td>1541.756326</td>\n",
       "      <td>0.000000</td>\n",
       "      <td>12</td>\n",
       "    </tr>\n",
       "    <tr>\n",
       "      <th>4012</th>\n",
       "      <td>C14126</td>\n",
       "      <td>5376.338384</td>\n",
       "      <td>1.0</td>\n",
       "      <td>5899.35</td>\n",
       "      <td>3732.48</td>\n",
       "      <td>2166.87</td>\n",
       "      <td>0.000000</td>\n",
       "      <td>1.000000</td>\n",
       "      <td>0.750000</td>\n",
       "      <td>0.916667</td>\n",
       "      <td>0.000000</td>\n",
       "      <td>0</td>\n",
       "      <td>112</td>\n",
       "      <td>6000.0</td>\n",
       "      <td>2816.619335</td>\n",
       "      <td>2785.379085</td>\n",
       "      <td>0.000000</td>\n",
       "      <td>12</td>\n",
       "    </tr>\n",
       "    <tr>\n",
       "      <th>7926</th>\n",
       "      <td>C18141</td>\n",
       "      <td>188.132508</td>\n",
       "      <td>1.0</td>\n",
       "      <td>515.88</td>\n",
       "      <td>79.00</td>\n",
       "      <td>436.88</td>\n",
       "      <td>0.000000</td>\n",
       "      <td>0.833333</td>\n",
       "      <td>0.083333</td>\n",
       "      <td>0.750000</td>\n",
       "      <td>0.000000</td>\n",
       "      <td>0</td>\n",
       "      <td>14</td>\n",
       "      <td>2700.0</td>\n",
       "      <td>601.729266</td>\n",
       "      <td>194.534934</td>\n",
       "      <td>0.000000</td>\n",
       "      <td>12</td>\n",
       "    </tr>\n",
       "    <tr>\n",
       "      <th>1787</th>\n",
       "      <td>C11847</td>\n",
       "      <td>4372.395867</td>\n",
       "      <td>1.0</td>\n",
       "      <td>569.91</td>\n",
       "      <td>569.91</td>\n",
       "      <td>0.00</td>\n",
       "      <td>520.844673</td>\n",
       "      <td>0.272727</td>\n",
       "      <td>0.272727</td>\n",
       "      <td>0.000000</td>\n",
       "      <td>0.272727</td>\n",
       "      <td>9</td>\n",
       "      <td>5</td>\n",
       "      <td>4500.0</td>\n",
       "      <td>1345.099869</td>\n",
       "      <td>3937.465141</td>\n",
       "      <td>0.000000</td>\n",
       "      <td>11</td>\n",
       "    </tr>\n",
       "  </tbody>\n",
       "</table>\n",
       "</div>"
      ],
      "text/plain": [
       "     CUST_ID      BALANCE  BALANCE_FREQUENCY  PURCHASES  ONEOFF_PURCHASES  \\\n",
       "2042  C12105  1007.362008                1.0     469.92              0.00   \n",
       "79    C10083  6593.820644                1.0     388.66            388.66   \n",
       "6450  C16627   218.280031                1.0     939.14            939.14   \n",
       "4445  C14569  1689.238956                1.0     261.89            139.19   \n",
       "4396  C14519  7677.565407                1.0    1240.04           1240.04   \n",
       "2676  C12753  1565.577135                1.0       0.00              0.00   \n",
       "2746  C12825  4202.169500                1.0     462.00            462.00   \n",
       "4012  C14126  5376.338384                1.0    5899.35           3732.48   \n",
       "7926  C18141   188.132508                1.0     515.88             79.00   \n",
       "1787  C11847  4372.395867                1.0     569.91            569.91   \n",
       "\n",
       "      INSTALLMENTS_PURCHASES  CASH_ADVANCE  PURCHASES_FREQUENCY  \\\n",
       "2042                  469.92      0.000000             1.000000   \n",
       "79                      0.00   4621.934580             0.583333   \n",
       "6450                    0.00      0.000000             0.727273   \n",
       "4445                  122.70      0.000000             0.416667   \n",
       "4396                    0.00   3681.231518             0.750000   \n",
       "2676                    0.00   2676.476175             0.000000   \n",
       "2746                    0.00   4776.104770             0.166667   \n",
       "4012                 2166.87      0.000000             1.000000   \n",
       "7926                  436.88      0.000000             0.833333   \n",
       "1787                    0.00    520.844673             0.272727   \n",
       "\n",
       "      ONEOFF_PURCHASES_FREQUENCY  PURCHASES_INSTALLMENTS_FREQUENCY  \\\n",
       "2042                    0.000000                          1.000000   \n",
       "79                      0.583333                          0.000000   \n",
       "6450                    0.727273                          0.000000   \n",
       "4445                    0.083333                          0.333333   \n",
       "4396                    0.750000                          0.000000   \n",
       "2676                    0.000000                          0.000000   \n",
       "2746                    0.166667                          0.000000   \n",
       "4012                    0.750000                          0.916667   \n",
       "7926                    0.083333                          0.750000   \n",
       "1787                    0.272727                          0.000000   \n",
       "\n",
       "      CASH_ADVANCE_FREQUENCY  CASH_ADVANCE_TRX  PURCHASES_TRX  CREDIT_LIMIT  \\\n",
       "2042                0.000000                 0             12        1000.0   \n",
       "79                  0.416667                 7              7        7000.0   \n",
       "6450                0.000000                 0              8        5000.0   \n",
       "4445                0.000000                 0              7        1700.0   \n",
       "4396                0.333333                 4             20        8000.0   \n",
       "2676                0.333333                 6              0        3000.0   \n",
       "2746                0.416667                10              2        8000.0   \n",
       "4012                0.000000                 0            112        6000.0   \n",
       "7926                0.000000                 0             14        2700.0   \n",
       "1787                0.272727                 9              5        4500.0   \n",
       "\n",
       "         PAYMENTS  MINIMUM_PAYMENTS  PRC_FULL_PAYMENT  TENURE  \n",
       "2042   716.423692        871.852779          0.000000      12  \n",
       "79    1624.583114       2503.402340          0.000000      12  \n",
       "6450   969.130835        168.333790          0.000000      11  \n",
       "4445   309.348573       1196.937133          0.000000      12  \n",
       "4396  2724.967965       2726.278972          0.000000      12  \n",
       "2676  3418.679368        477.674801          0.090909      12  \n",
       "2746  1010.799168       1541.756326          0.000000      12  \n",
       "4012  2816.619335       2785.379085          0.000000      12  \n",
       "7926   601.729266        194.534934          0.000000      12  \n",
       "1787  1345.099869       3937.465141          0.000000      11  "
      ]
     },
     "execution_count": 40,
     "metadata": {},
     "output_type": "execute_result"
    }
   ],
   "source": [
    "df.sample(10)"
   ]
  },
  {
   "cell_type": "code",
   "execution_count": 41,
   "metadata": {},
   "outputs": [
    {
     "data": {
      "text/plain": [
       "(8950, 18)"
      ]
     },
     "execution_count": 41,
     "metadata": {},
     "output_type": "execute_result"
    }
   ],
   "source": [
    "df.shape"
   ]
  },
  {
   "cell_type": "code",
   "execution_count": 42,
   "metadata": {},
   "outputs": [
    {
     "data": {
      "text/plain": [
       "CUST_ID                              object\n",
       "BALANCE                             float64\n",
       "BALANCE_FREQUENCY                   float64\n",
       "PURCHASES                           float64\n",
       "ONEOFF_PURCHASES                    float64\n",
       "INSTALLMENTS_PURCHASES              float64\n",
       "CASH_ADVANCE                        float64\n",
       "PURCHASES_FREQUENCY                 float64\n",
       "ONEOFF_PURCHASES_FREQUENCY          float64\n",
       "PURCHASES_INSTALLMENTS_FREQUENCY    float64\n",
       "CASH_ADVANCE_FREQUENCY              float64\n",
       "CASH_ADVANCE_TRX                      int64\n",
       "PURCHASES_TRX                         int64\n",
       "CREDIT_LIMIT                        float64\n",
       "PAYMENTS                            float64\n",
       "MINIMUM_PAYMENTS                    float64\n",
       "PRC_FULL_PAYMENT                    float64\n",
       "TENURE                                int64\n",
       "dtype: object"
      ]
     },
     "execution_count": 42,
     "metadata": {},
     "output_type": "execute_result"
    }
   ],
   "source": [
    "df.dtypes"
   ]
  },
  {
   "cell_type": "code",
   "execution_count": 43,
   "metadata": {},
   "outputs": [],
   "source": [
    "customer_ids = df.CUST_ID\n",
    "df = df.drop(columns=\"CUST_ID\")"
   ]
  },
  {
   "cell_type": "code",
   "execution_count": 44,
   "metadata": {},
   "outputs": [
    {
     "data": {
      "text/plain": [
       "Index(['CREDIT_LIMIT', 'MINIMUM_PAYMENTS'], dtype='object')"
      ]
     },
     "execution_count": 44,
     "metadata": {},
     "output_type": "execute_result"
    }
   ],
   "source": [
    "df.columns[df.isnull().any()]"
   ]
  },
  {
   "cell_type": "code",
   "execution_count": 45,
   "metadata": {},
   "outputs": [
    {
     "data": {
      "image/png": "[encoded data removed]",
      "text/plain": [
       "<Figure size 432x288 with 1 Axes>"
      ]
     },
     "metadata": {
      "needs_background": "light"
     },
     "output_type": "display_data"
    }
   ],
   "source": [
    "df['MINIMUM_PAYMENTS'].hist();"
   ]
  },
  {
   "cell_type": "code",
   "execution_count": 46,
   "metadata": {},
   "outputs": [],
   "source": [
    "from sklearn.tree import DecisionTreeRegressor\n",
    "X_train=df[~df[\"MINIMUM_PAYMENTS\"].isna()].drop(columns=[\"CREDIT_LIMIT\",\"MINIMUM_PAYMENTS\"])\n",
    "y_train=df[~df[\"MINIMUM_PAYMENTS\"].isna()][\"MINIMUM_PAYMENTS\"]\n",
    "X_test=df[df[\"MINIMUM_PAYMENTS\"].isna()].drop(columns=[\"CREDIT_LIMIT\",\"MINIMUM_PAYMENTS\"])"
   ]
  },
  {
   "cell_type": "code",
   "execution_count": 48,
   "metadata": {},
   "outputs": [],
   "source": [
    "arbol=DecisionTreeRegressor()\n",
    "arbol.fit(X_train,y_train)\n",
    "y_predicho=arbol.predict(X_test)"
   ]
  },
  {
   "cell_type": "code",
   "execution_count": 50,
   "metadata": {},
   "outputs": [
    {
     "data": {
      "text/plain": [
       "1.0"
      ]
     },
     "execution_count": 50,
     "metadata": {},
     "output_type": "execute_result"
    }
   ],
   "source": [
    "arbol.score(X_train,y_train)"
   ]
  },
  {
   "cell_type": "code",
   "execution_count": 51,
   "metadata": {},
   "outputs": [
    {
     "data": {
      "text/plain": [
       "array([0.2863285 , 0.00155224, 0.01545622, 0.02317754, 0.1579803 ,\n",
       "       0.00965778, 0.00960363, 0.00536714, 0.05948626, 0.00917927,\n",
       "       0.06238976, 0.04866667, 0.27347474, 0.00261514, 0.03506482])"
      ]
     },
     "execution_count": 51,
     "metadata": {},
     "output_type": "execute_result"
    }
   ],
   "source": [
    "arbol.feature_importances_"
   ]
  },
  {
   "cell_type": "code",
   "execution_count": 52,
   "metadata": {},
   "outputs": [
    {
     "data": {
      "text/plain": [
       "<AxesSubplot:>"
      ]
     },
     "execution_count": 52,
     "metadata": {},
     "output_type": "execute_result"
    },
    {
     "data": {
      "image/png": "[encoded data removed]",
      "text/plain": [
       "<Figure size 576x432 with 1 Axes>"
      ]
     },
     "metadata": {
      "needs_background": "light"
     },
     "output_type": "display_data"
    }
   ],
   "source": [
    "import matplotlib.pyplot as plt\n",
    "\n",
    "feat_importances = pd.DataFrame(arbol.feature_importances_, index=X_train.columns, columns=[\"Importance\"])\n",
    "feat_importances.sort_values(by='Importance', ascending=False, inplace=True)\n",
    "feat_importances.plot(kind='bar', figsize=(8,6))"
   ]
  },
  {
   "cell_type": "code",
   "execution_count": 49,
   "metadata": {},
   "outputs": [
    {
     "data": {
      "text/plain": [
       "array([4.08047254e+03, 1.64157328e+04, 2.71460268e+04, 1.11302700e+00,\n",
       "       4.08047254e+03, 2.71460268e+04, 2.54557160e+01, 4.08047254e+03,\n",
       "       1.64157328e+04, 2.71460268e+04, 5.58800000e-02, 4.76368900e+00,\n",
       "       2.71460268e+04, 4.08047254e+03, 2.80618072e+02, 1.66360313e+02,\n",
       "       6.10316186e+04, 4.60222490e+01, 6.10316186e+04, 4.08047254e+03,\n",
       "       5.58800000e-02, 1.61218330e+01, 5.41338553e+03, 1.74299229e+02,\n",
       "       1.17892476e+02, 3.85121248e+04, 2.61431705e+04, 1.74958496e+02,\n",
       "       3.92228550e+03, 1.15177720e+03, 1.33954340e+01, 6.95611180e+01,\n",
       "       1.93738387e+02, 6.10316186e+04, 7.41638600e+01, 1.39674841e+02,\n",
       "       2.71460268e+04, 3.08733881e+03, 1.36064600e+01, 5.58800000e-02,\n",
       "       1.93290340e+01, 4.95894474e+03, 5.02607595e+04, 1.32663819e+04,\n",
       "       6.91248340e+01, 7.75132133e+03, 3.92228550e+03, 1.35643912e+04,\n",
       "       1.93934077e+02, 4.08047254e+03, 4.08047254e+03, 1.33337940e+04,\n",
       "       1.91630000e-02, 4.08047254e+03, 1.64157328e+04, 4.08047254e+03,\n",
       "       5.41338553e+03, 6.10316186e+04, 3.85121248e+04, 3.45092178e+02,\n",
       "       1.38420441e+02, 2.08550713e+02, 7.56855462e+02, 1.33505568e+04,\n",
       "       5.41338553e+03, 3.08733881e+03, 8.56154000e+00, 1.93738387e+02,\n",
       "       1.15177720e+03, 2.71460268e+04, 3.85121248e+04, 5.41338553e+03,\n",
       "       4.36535770e+01, 1.64157328e+04, 4.95894474e+03, 1.50317143e+02,\n",
       "       4.08047254e+03, 9.44861307e+03, 1.93738387e+02, 6.10316186e+04,\n",
       "       1.70973738e+02, 1.32310020e+02, 1.33505568e+04, 1.93738387e+02,\n",
       "       2.33229870e+02, 5.58800000e-02, 4.65730540e+01, 1.48405760e+01,\n",
       "       3.25853210e+01, 3.63870330e+01, 4.39091800e+00, 1.91630000e-02,\n",
       "       5.94810000e-02, 5.67825210e+01, 1.22247020e+01, 3.25853210e+01,\n",
       "       2.78649820e+01, 1.36403124e+02, 3.25853210e+01, 8.56154000e+00,\n",
       "       1.37148950e+01, 1.33407500e+00, 1.13963653e+02, 5.00550240e+01,\n",
       "       1.36064600e+01, 1.07505870e+02, 1.91630000e-02, 4.10349060e+01,\n",
       "       2.68495230e+01, 1.91630000e-02, 1.37148950e+01, 1.66360313e+02,\n",
       "       2.78649820e+01, 8.56154000e+00, 2.68495230e+01, 5.94810000e-02,\n",
       "       2.00034390e+02, 8.14031770e+01, 8.50735910e+01, 1.46675070e+01,\n",
       "       5.94810000e-02, 2.68495230e+01, 2.68495230e+01, 2.68495230e+01,\n",
       "       1.14611791e+02, 6.07924500e+01, 2.10906103e+02, 1.91630000e-02,\n",
       "       1.61272970e+01, 1.93738387e+02, 1.63463142e+02, 4.08047254e+03,\n",
       "       1.50317143e+02, 6.10316186e+04, 1.91630000e-02, 1.33337940e+04,\n",
       "       7.75132133e+03, 3.92228550e+03, 1.49454970e+01, 1.91630000e-02,\n",
       "       3.63870330e+01, 4.65730540e+01, 8.01159910e+01, 4.60869640e+01,\n",
       "       2.78649820e+01, 1.64157328e+04, 6.24910420e+01, 2.68495230e+01,\n",
       "       1.66360313e+02, 1.61272970e+01, 5.58800000e-02, 1.14611791e+02,\n",
       "       5.58800000e-02, 1.36403124e+02, 1.61218330e+01, 2.44993370e+01,\n",
       "       2.56522546e+02, 5.94810000e-02, 1.15153400e+01, 1.48457440e+01,\n",
       "       3.85121248e+04, 5.94810000e-02, 1.02415643e+02, 8.82327370e+01,\n",
       "       8.22406860e+01, 5.94810000e-02, 2.16780900e+00, 1.91630000e-02,\n",
       "       1.11928897e+02, 3.32480788e+02, 4.42547870e+01, 1.61218330e+01,\n",
       "       5.69189170e+01, 5.94810000e-02, 1.93738387e+02, 3.97805360e+01,\n",
       "       8.56154000e+00, 1.93738387e+02, 4.34526830e+01, 2.44993370e+01,\n",
       "       1.37148950e+01, 1.06285000e+02, 3.77440000e-02, 1.91630000e-02,\n",
       "       8.56154000e+00, 1.91630000e-02, 1.15177720e+03, 6.05821490e+01,\n",
       "       1.50317143e+02, 1.61218330e+01, 8.62459880e+01, 5.94810000e-02,\n",
       "       1.61949320e+01, 5.45890400e+00, 6.83704360e+01, 5.94810000e-02,\n",
       "       1.91630000e-02, 4.76093150e+01, 1.17036000e-01, 2.68495230e+01,\n",
       "       7.67503240e+01, 4.60377480e+01, 1.48457440e+01, 2.78649820e+01,\n",
       "       1.61218330e+01, 2.80618072e+02, 2.56522546e+02, 1.37148950e+01,\n",
       "       1.91630000e-02, 1.37148950e+01, 1.71875166e+02, 2.80249720e+01,\n",
       "       1.03724230e+02, 1.48405760e+01, 1.61272970e+01, 3.74098610e+01,\n",
       "       5.94810000e-02, 1.36403124e+02, 2.97000510e+01, 1.93738387e+02,\n",
       "       5.66795870e+01, 1.41594889e+02, 1.71993034e+02, 5.58800000e-02,\n",
       "       2.68495230e+01, 5.51788540e+01, 1.06285000e+02, 6.24910420e+01,\n",
       "       1.91630000e-02, 2.98627550e+01, 1.17036000e-01, 1.91630000e-02,\n",
       "       2.60926440e+01, 1.91630000e-02, 1.66360313e+02, 9.44861307e+03,\n",
       "       1.49909419e+02, 2.68495230e+01, 2.92340434e+02, 3.95513620e+01,\n",
       "       1.93738387e+02, 2.68495230e+01, 6.24910420e+01, 1.49454970e+01,\n",
       "       5.41338553e+03, 1.91630000e-02, 1.61272970e+01, 6.93347710e+01,\n",
       "       1.91630000e-02, 2.80618072e+02, 1.37148950e+01, 8.84260000e+00,\n",
       "       5.58800000e-02, 1.91630000e-02, 1.36403124e+02, 1.61218330e+01,\n",
       "       1.40941230e+01, 1.50317143e+02, 1.37148950e+01, 6.24910420e+01,\n",
       "       1.91630000e-02, 5.94810000e-02, 1.40941230e+01, 1.32663819e+04,\n",
       "       1.91630000e-02, 1.91630000e-02, 2.33231000e+01, 1.12139670e+02,\n",
       "       6.24910420e+01, 5.94810000e-02, 1.93738387e+02, 3.11953000e-01,\n",
       "       5.69189170e+01, 1.50317143e+02, 2.56522546e+02, 1.17036000e-01,\n",
       "       3.12967911e+02, 7.34116150e+01, 8.84260000e+00, 5.94810000e-02,\n",
       "       1.49909419e+02, 1.61218330e+01, 4.76368900e+00, 8.56154000e+00,\n",
       "       1.82195260e+01, 9.87676060e+01, 1.82195260e+01, 5.58800000e-02,\n",
       "       1.36064600e+01, 1.36064600e+01, 2.77820570e+01, 3.25853210e+01,\n",
       "       7.75132133e+03, 3.93859160e+01, 1.04264949e+02, 1.46675070e+01,\n",
       "       5.58800000e-02, 8.27936780e+01, 1.36403124e+02, 7.34116150e+01,\n",
       "       9.44861307e+03, 2.33231000e+01, 1.64157328e+04, 1.37148950e+01,\n",
       "       1.11928897e+02, 3.08733881e+03, 2.33229870e+02, 1.61218330e+01,\n",
       "       1.09433095e+02, 1.50317143e+02, 8.27713200e+01, 4.14573360e+01,\n",
       "       5.32649850e+01])"
      ]
     },
     "execution_count": 49,
     "metadata": {},
     "output_type": "execute_result"
    }
   ],
   "source": [
    "y_predicho"
   ]
  },
  {
   "cell_type": "code",
   "execution_count": 33,
   "metadata": {},
   "outputs": [
    {
     "data": {
      "image/png": "[encoded data removed]",
      "text/plain": [
       "<Figure size 432x288 with 1 Axes>"
      ]
     },
     "metadata": {
      "needs_background": "light"
     },
     "output_type": "display_data"
    }
   ],
   "source": [
    "df['CREDIT_LIMIT'].hist();"
   ]
  },
  {
   "cell_type": "code",
   "execution_count": 6,
   "metadata": {},
   "outputs": [
    {
     "data": {
      "text/plain": [
       "(314, 17)"
      ]
     },
     "execution_count": 6,
     "metadata": {},
     "output_type": "execute_result"
    }
   ],
   "source": [
    "df[df.isnull().any(axis=1)].shape"
   ]
  },
  {
   "cell_type": "markdown",
   "metadata": {},
   "source": [
    "Imputamos a 0 los valores nulos, así podemos ver si los elementos anómalos son aquellos que tienen estas columnas a 0"
   ]
  },
  {
   "cell_type": "code",
   "execution_count": 7,
   "metadata": {},
   "outputs": [],
   "source": [
    "df = df.fillna(0)"
   ]
  },
  {
   "cell_type": "markdown",
   "metadata": {},
   "source": [
    "Utilizo el algoritmo DBSCAN.\n",
    "Y utilizo el StandardScaler para que todos los valores esten en la misma escala"
   ]
  },
  {
   "cell_type": "code",
   "execution_count": 9,
   "metadata": {},
   "outputs": [],
   "source": [
    "from sklearn.cluster import DBSCAN\n",
    "from sklearn.preprocessing import StandardScaler"
   ]
  },
  {
   "cell_type": "code",
   "execution_count": 10,
   "metadata": {},
   "outputs": [],
   "source": [
    "df_normalizado = pd.DataFrame(StandardScaler().fit_transform(df))"
   ]
  },
  {
   "cell_type": "code",
   "execution_count": 13,
   "metadata": {},
   "outputs": [
    {
     "data": {
      "text/plain": [
       "-1     6627\n",
       " 0     1948\n",
       " 10      60\n",
       " 2       34\n",
       " 15      30\n",
       "dtype: int64"
      ]
     },
     "execution_count": 13,
     "metadata": {},
     "output_type": "execute_result"
    }
   ],
   "source": [
    "clusterer = DBSCAN()\n",
    "cluster_labels = clusterer.fit_predict(df_normalizado)\n",
    "## muestro el top 5\n",
    "pd.Series(cluster_labels).value_counts()[:5]"
   ]
  },
  {
   "cell_type": "code",
   "execution_count": 14,
   "metadata": {},
   "outputs": [
    {
     "data": {
      "text/plain": [
       "-1     0.740447\n",
       " 0     0.217654\n",
       " 10    0.006704\n",
       " 2     0.003799\n",
       " 15    0.003352\n",
       "dtype: float64"
      ]
     },
     "execution_count": 14,
     "metadata": {},
     "output_type": "execute_result"
    }
   ],
   "source": [
    "pd.Series(cluster_labels).value_counts(normalize=True)[:5]"
   ]
  },
  {
   "cell_type": "markdown",
   "metadata": {},
   "source": [
    "DBSCAN etiqueta practicamente un 75% de valores como -1. Usamos el coeficiente de silueta (`silhouette_score`) para ver como etiqueta el algoritmo"
   ]
  },
  {
   "cell_type": "code",
   "execution_count": 12,
   "metadata": {},
   "outputs": [],
   "source": [
    "from sklearn.metrics import silhouette_score"
   ]
  },
  {
   "cell_type": "code",
   "execution_count": 15,
   "metadata": {},
   "outputs": [
    {
     "data": {
      "text/plain": [
       "-0.46596190778573116"
      ]
     },
     "execution_count": 15,
     "metadata": {},
     "output_type": "execute_result"
    }
   ],
   "source": [
    "silhouette_score(df_normalizado, cluster_labels)"
   ]
  },
  {
   "cell_type": "markdown",
   "metadata": {},
   "source": [
    "El valor es negativo, con lo que quiere decir que la segmetnación es bastante mala"
   ]
  },
  {
   "cell_type": "code",
   "execution_count": 16,
   "metadata": {},
   "outputs": [
    {
     "data": {
      "text/plain": [
       "{'algorithm': 'auto',\n",
       " 'eps': 0.5,\n",
       " 'leaf_size': 30,\n",
       " 'metric': 'euclidean',\n",
       " 'metric_params': None,\n",
       " 'min_samples': 5,\n",
       " 'n_jobs': None,\n",
       " 'p': None}"
      ]
     },
     "execution_count": 16,
     "metadata": {},
     "output_type": "execute_result"
    }
   ],
   "source": [
    "### Veamos los hiperparamentros que hemos utilizado\n",
    "DBSCAN().get_params()"
   ]
  },
  {
   "cell_type": "markdown",
   "metadata": {},
   "source": [
    "Vamos a realizar un similar a GridSearch para este modelo. ya que al no tener predict no podemos usar este o RandomSearch"
   ]
  },
  {
   "cell_type": "code",
   "execution_count": 17,
   "metadata": {},
   "outputs": [],
   "source": [
    "from scipy.stats import uniform,randint\n",
    "\n",
    "distribucion_parametros = {\n",
    "    \"eps\": uniform(0,5),\n",
    "    \"min_samples\": randint(2, 20),\n",
    "    \"p\": randint(1, 3),\n",
    "}"
   ]
  },
  {
   "cell_type": "code",
   "execution_count": 18,
   "metadata": {},
   "outputs": [],
   "source": [
    "import numpy as np\n",
    "from sklearn.model_selection import ParameterSampler\n",
    "\n",
    "n_muestras = 30 # probamos 30 combinaciones de hiperparámetros\n",
    "n_iteraciones = 2 #para validar, vamos a entrenar para cada \n",
    "                  # selección de hiperparámetros en 2 muestras distintas\n",
    "pct_muestra = 0.7 # usamos el 70% de los datos para entrenar el modelo en cada iteracion\n",
    "resultados_busqueda = []\n",
    "lista_parametros = list(ParameterSampler(distribucion_parametros, n_iter=n_muestras))\n",
    "\n",
    "for param in lista_parametros:\n",
    "    for iteration in range(n_iteraciones):\n",
    "        param_resultados = []\n",
    "        muestra = df_normalizado.sample(frac=pct_muestra)\n",
    "        etiquetas_clusters = DBSCAN(n_jobs=-1, **param).fit_predict(muestra)\n",
    "        try:\n",
    "            param_resultados.append(silhouette_score(muestra, etiquetas_clusters))\n",
    "        except ValueError: # a veces silhouette_score falla en los casos en los que solo hay 1 cluster\n",
    "            pass\n",
    "    puntuacion_media = np.mean(param_resultados)\n",
    "    resultados_busqueda.append([puntuacion_media, param])"
   ]
  },
  {
   "cell_type": "code",
   "execution_count": 21,
   "metadata": {},
   "outputs": [],
   "source": [
    "Parametros=sorted(resultados_busqueda, key=lambda x: x[0], reverse=True)[:5]"
   ]
  },
  {
   "cell_type": "code",
   "execution_count": 54,
   "metadata": {},
   "outputs": [
    {
     "data": {
      "text/plain": [
       "[[0.7434661571147867, {'eps': 4.9131508354483024, 'min_samples': 9, 'p': 2}],\n",
       " [0.7063416004981943, {'eps': 4.219331920901258, 'min_samples': 8, 'p': 1}],\n",
       " [0.7044269732294878, {'eps': 4.555995114916546, 'min_samples': 13, 'p': 2}],\n",
       " [0.6880736562238529, {'eps': 4.062499754338706, 'min_samples': 12, 'p': 2}],\n",
       " [0.673539678153304, {'eps': 3.706336751766966, 'min_samples': 7, 'p': 2}]]"
      ]
     },
     "execution_count": 54,
     "metadata": {},
     "output_type": "execute_result"
    }
   ],
   "source": [
    "Parametros"
   ]
  },
  {
   "cell_type": "markdown",
   "metadata": {},
   "source": [
    "Cojo el primer valor que he obtenido"
   ]
  },
  {
   "cell_type": "code",
   "execution_count": 25,
   "metadata": {},
   "outputs": [],
   "source": [
    "mejores_params = Parametros[0][1]\n",
    "\n",
    "clusterer = DBSCAN(n_jobs=-1, **mejores_params)\n",
    "\n",
    "etiquetas_cluster = clusterer.fit_predict(df_normalizado)"
   ]
  },
  {
   "cell_type": "code",
   "execution_count": 26,
   "metadata": {},
   "outputs": [
    {
     "data": {
      "text/plain": [
       " 0    8887\n",
       "-1      63\n",
       "dtype: int64"
      ]
     },
     "execution_count": 26,
     "metadata": {},
     "output_type": "execute_result"
    }
   ],
   "source": [
    "pd.Series(etiquetas_cluster).value_counts()"
   ]
  },
  {
   "cell_type": "markdown",
   "metadata": {},
   "source": [
    "Vemos que hay 63 que se consideran anomalos"
   ]
  },
  {
   "cell_type": "code",
   "execution_count": 27,
   "metadata": {},
   "outputs": [],
   "source": [
    "def resumen_cluster(cluster_id):\n",
    "    cluster = df[etiquetas_cluster==cluster_id]\n",
    "    resumen_cluster = cluster.mean().to_dict()\n",
    "    resumen_cluster[\"cluster_id\"] = cluster_id\n",
    "    return resumen_cluster\n",
    "\n",
    "def comparar_clusters(*cluster_ids):\n",
    "    resumenes = []\n",
    "    for cluster_id in cluster_ids:\n",
    "        resumenes.append(resumen_cluster(cluster_id))\n",
    "    return pd.DataFrame(resumenes).set_index(\"cluster_id\").T"
   ]
  },
  {
   "cell_type": "code",
   "execution_count": 28,
   "metadata": {},
   "outputs": [
    {
     "data": {
      "text/html": [
       "<div>\n",
       "<style scoped>\n",
       "    .dataframe tbody tr th:only-of-type {\n",
       "        vertical-align: middle;\n",
       "    }\n",
       "\n",
       "    .dataframe tbody tr th {\n",
       "        vertical-align: top;\n",
       "    }\n",
       "\n",
       "    .dataframe thead th {\n",
       "        text-align: right;\n",
       "    }\n",
       "</style>\n",
       "<table border=\"1\" class=\"dataframe\">\n",
       "  <thead>\n",
       "    <tr style=\"text-align: right;\">\n",
       "      <th>cluster_id</th>\n",
       "      <th>0</th>\n",
       "      <th>-1</th>\n",
       "    </tr>\n",
       "  </thead>\n",
       "  <tbody>\n",
       "    <tr>\n",
       "      <th>BALANCE</th>\n",
       "      <td>1532.610082</td>\n",
       "      <td>6059.427090</td>\n",
       "    </tr>\n",
       "    <tr>\n",
       "      <th>BALANCE_FREQUENCY</th>\n",
       "      <td>0.876726</td>\n",
       "      <td>0.954161</td>\n",
       "    </tr>\n",
       "    <tr>\n",
       "      <th>PURCHASES</th>\n",
       "      <td>911.208148</td>\n",
       "      <td>13980.578571</td>\n",
       "    </tr>\n",
       "    <tr>\n",
       "      <th>ONEOFF_PURCHASES</th>\n",
       "      <td>531.291612</td>\n",
       "      <td>9217.871587</td>\n",
       "    </tr>\n",
       "    <tr>\n",
       "      <th>INSTALLMENTS_PURCHASES</th>\n",
       "      <td>380.218846</td>\n",
       "      <td>4762.706984</td>\n",
       "    </tr>\n",
       "    <tr>\n",
       "      <th>CASH_ADVANCE</th>\n",
       "      <td>942.881046</td>\n",
       "      <td>6055.755574</td>\n",
       "    </tr>\n",
       "    <tr>\n",
       "      <th>PURCHASES_FREQUENCY</th>\n",
       "      <td>0.488374</td>\n",
       "      <td>0.769216</td>\n",
       "    </tr>\n",
       "    <tr>\n",
       "      <th>ONEOFF_PURCHASES_FREQUENCY</th>\n",
       "      <td>0.200215</td>\n",
       "      <td>0.518762</td>\n",
       "    </tr>\n",
       "    <tr>\n",
       "      <th>PURCHASES_INSTALLMENTS_FREQUENCY</th>\n",
       "      <td>0.362407</td>\n",
       "      <td>0.650883</td>\n",
       "    </tr>\n",
       "    <tr>\n",
       "      <th>CASH_ADVANCE_FREQUENCY</th>\n",
       "      <td>0.134068</td>\n",
       "      <td>0.286917</td>\n",
       "    </tr>\n",
       "    <tr>\n",
       "      <th>CASH_ADVANCE_TRX</th>\n",
       "      <td>3.131766</td>\n",
       "      <td>19.761905</td>\n",
       "    </tr>\n",
       "    <tr>\n",
       "      <th>PURCHASES_TRX</th>\n",
       "      <td>14.124676</td>\n",
       "      <td>97.253968</td>\n",
       "    </tr>\n",
       "    <tr>\n",
       "      <th>CREDIT_LIMIT</th>\n",
       "      <td>4433.400262</td>\n",
       "      <td>13034.920635</td>\n",
       "    </tr>\n",
       "    <tr>\n",
       "      <th>PAYMENTS</th>\n",
       "      <td>1609.667403</td>\n",
       "      <td>19151.162939</td>\n",
       "    </tr>\n",
       "    <tr>\n",
       "      <th>MINIMUM_PAYMENTS</th>\n",
       "      <td>777.214487</td>\n",
       "      <td>8842.012012</td>\n",
       "    </tr>\n",
       "    <tr>\n",
       "      <th>PRC_FULL_PAYMENT</th>\n",
       "      <td>0.152767</td>\n",
       "      <td>0.287429</td>\n",
       "    </tr>\n",
       "    <tr>\n",
       "      <th>TENURE</th>\n",
       "      <td>11.516597</td>\n",
       "      <td>11.619048</td>\n",
       "    </tr>\n",
       "  </tbody>\n",
       "</table>\n",
       "</div>"
      ],
      "text/plain": [
       "cluster_id                                  0            -1\n",
       "BALANCE                           1532.610082   6059.427090\n",
       "BALANCE_FREQUENCY                    0.876726      0.954161\n",
       "PURCHASES                          911.208148  13980.578571\n",
       "ONEOFF_PURCHASES                   531.291612   9217.871587\n",
       "INSTALLMENTS_PURCHASES             380.218846   4762.706984\n",
       "CASH_ADVANCE                       942.881046   6055.755574\n",
       "PURCHASES_FREQUENCY                  0.488374      0.769216\n",
       "ONEOFF_PURCHASES_FREQUENCY           0.200215      0.518762\n",
       "PURCHASES_INSTALLMENTS_FREQUENCY     0.362407      0.650883\n",
       "CASH_ADVANCE_FREQUENCY               0.134068      0.286917\n",
       "CASH_ADVANCE_TRX                     3.131766     19.761905\n",
       "PURCHASES_TRX                       14.124676     97.253968\n",
       "CREDIT_LIMIT                      4433.400262  13034.920635\n",
       "PAYMENTS                          1609.667403  19151.162939\n",
       "MINIMUM_PAYMENTS                   777.214487   8842.012012\n",
       "PRC_FULL_PAYMENT                     0.152767      0.287429\n",
       "TENURE                              11.516597     11.619048"
      ]
     },
     "execution_count": 28,
     "metadata": {},
     "output_type": "execute_result"
    }
   ],
   "source": [
    "comparar_clusters(0,-1)"
   ]
  },
  {
   "cell_type": "code",
   "execution_count": null,
   "metadata": {},
   "outputs": [],
   "source": []
  }
 ],
 "metadata": {
  "kernelspec": {
   "display_name": "base",
   "language": "python",
   "name": "python3"
  },
  "language_info": {
   "codemirror_mode": {
    "name": "ipython",
    "version": 3
   },
   "file_extension": ".py",
   "mimetype": "text/x-python",
   "name": "python",
   "nbconvert_exporter": "python",
   "pygments_lexer": "ipython3",
   "version": "3.9.12"
  },
  "orig_nbformat": 4
 },
 "nbformat": 4,
 "nbformat_minor": 2
}
